{
 "cells": [
  {
   "cell_type": "code",
   "execution_count": 1,
   "id": "2c30e545-90ee-4e43-9413-ad86abb9f139",
   "metadata": {},
   "outputs": [],
   "source": [
    "import pandas as pd\n",
    "import matplotlib.pyplot as plt\n",
    "import numpy as np\n",
    "\n",
    "\n",
    "import itertools\n",
    "\n",
    "import matplotlib.gridspec as gridspec\n",
    "import matplotlib.pyplot as plt\n",
    "\n",
    "from mlxtend.plotting import plot_decision_regions\n",
    "\n",
    "from sklearn.linear_model import LogisticRegression\n",
    "from sklearn.svm import SVC\n",
    "\n",
    "from sklearn.metrics import accuracy_score, mean_absolute_error, mean_squared_error, confusion_matrix, classification_report\n",
    "from sklearn.metrics import f1_score, precision_score, recall_score, roc_auc_score\n",
    "from sklearn.model_selection import train_test_split, cross_val_score\n",
    "\n",
    "from sklearn.preprocessing import OneHotEncoder, StandardScaler, MultiLabelBinarizer, MinMaxScaler\n",
    "from sklearn.pipeline import Pipeline\n",
    "\n",
    "from sklearn.model_selection import GridSearchCV\n",
    "\n",
    "from sklearn.utils import resample"
   ]
  },
  {
   "cell_type": "code",
   "execution_count": 2,
   "id": "259f1953-1857-4f4e-8e82-ac17cf3a17c3",
   "metadata": {},
   "outputs": [],
   "source": [
    "df_clients = pd.read_csv('data/D_clients.csv')\n",
    "df_close_loan = pd.read_csv('data/D_close_loan.csv')\n",
    "df_job = pd.read_csv('data/D_job.csv')\n",
    "df_last_credit = pd.read_csv('data/D_last_credit.csv')\n",
    "df_loan = pd.read_csv('data/D_loan.csv')\n",
    "df_salary = pd.read_csv('data/D_salary.csv')\n",
    "df_target = pd.read_csv('data/D_target.csv')\n",
    "\n",
    "df_fl_pens = pd.read_csv('data/D_pens.csv')\n",
    "df_fl_work = pd.read_csv('data/D_work.csv')"
   ]
  },
  {
   "cell_type": "code",
   "execution_count": 3,
   "id": "d886b98b-74dc-4f07-aae1-1351e09b98e7",
   "metadata": {},
   "outputs": [
    {
     "data": {
      "text/plain": [
       "Index(['FAMILY_INCOME', 'PERSONAL_INCOME', 'ID_CLIENT'], dtype='object')"
      ]
     },
     "execution_count": 3,
     "metadata": {},
     "output_type": "execute_result"
    }
   ],
   "source": [
    "df_salary.columns"
   ]
  },
  {
   "cell_type": "code",
   "execution_count": 4,
   "id": "2698ff54-1c0d-4701-9637-4e6e818ea1ca",
   "metadata": {},
   "outputs": [
    {
     "data": {
      "text/html": [
       "<div>\n",
       "<style scoped>\n",
       "    .dataframe tbody tr th:only-of-type {\n",
       "        vertical-align: middle;\n",
       "    }\n",
       "\n",
       "    .dataframe tbody tr th {\n",
       "        vertical-align: top;\n",
       "    }\n",
       "\n",
       "    .dataframe thead th {\n",
       "        text-align: right;\n",
       "    }\n",
       "</style>\n",
       "<table border=\"1\" class=\"dataframe\">\n",
       "  <thead>\n",
       "    <tr style=\"text-align: right;\">\n",
       "      <th></th>\n",
       "      <th>ID</th>\n",
       "      <th>FLAG</th>\n",
       "      <th>COMMENT</th>\n",
       "    </tr>\n",
       "  </thead>\n",
       "  <tbody>\n",
       "    <tr>\n",
       "      <th>0</th>\n",
       "      <td>1</td>\n",
       "      <td>0</td>\n",
       "      <td>пенсионер</td>\n",
       "    </tr>\n",
       "    <tr>\n",
       "      <th>1</th>\n",
       "      <td>2</td>\n",
       "      <td>1</td>\n",
       "      <td>не пенсионер</td>\n",
       "    </tr>\n",
       "  </tbody>\n",
       "</table>\n",
       "</div>"
      ],
      "text/plain": [
       "   ID  FLAG       COMMENT\n",
       "0   1     0     пенсионер\n",
       "1   2     1  не пенсионер"
      ]
     },
     "execution_count": 4,
     "metadata": {},
     "output_type": "execute_result"
    }
   ],
   "source": [
    "df_fl_pens"
   ]
  },
  {
   "cell_type": "code",
   "execution_count": 5,
   "id": "4c15651a-4e85-49cc-b681-ed91e11e198f",
   "metadata": {},
   "outputs": [
    {
     "data": {
      "text/html": [
       "<div>\n",
       "<style scoped>\n",
       "    .dataframe tbody tr th:only-of-type {\n",
       "        vertical-align: middle;\n",
       "    }\n",
       "\n",
       "    .dataframe tbody tr th {\n",
       "        vertical-align: top;\n",
       "    }\n",
       "\n",
       "    .dataframe thead th {\n",
       "        text-align: right;\n",
       "    }\n",
       "</style>\n",
       "<table border=\"1\" class=\"dataframe\">\n",
       "  <thead>\n",
       "    <tr style=\"text-align: right;\">\n",
       "      <th></th>\n",
       "      <th>ID</th>\n",
       "      <th>FLAG</th>\n",
       "      <th>COMMENT</th>\n",
       "    </tr>\n",
       "  </thead>\n",
       "  <tbody>\n",
       "    <tr>\n",
       "      <th>0</th>\n",
       "      <td>1</td>\n",
       "      <td>0</td>\n",
       "      <td>работает</td>\n",
       "    </tr>\n",
       "    <tr>\n",
       "      <th>1</th>\n",
       "      <td>2</td>\n",
       "      <td>1</td>\n",
       "      <td>не работает</td>\n",
       "    </tr>\n",
       "    <tr>\n",
       "      <th>2</th>\n",
       "      <td>3</td>\n",
       "      <td>2</td>\n",
       "      <td>не известно</td>\n",
       "    </tr>\n",
       "  </tbody>\n",
       "</table>\n",
       "</div>"
      ],
      "text/plain": [
       "   ID  FLAG      COMMENT\n",
       "0   1     0     работает\n",
       "1   2     1  не работает\n",
       "2   3     2  не известно"
      ]
     },
     "execution_count": 5,
     "metadata": {},
     "output_type": "execute_result"
    }
   ],
   "source": [
    "df_fl_work"
   ]
  },
  {
   "cell_type": "markdown",
   "id": "1cc52d55-9420-4e92-9d76-0a61a91beccf",
   "metadata": {},
   "source": [
    "# Data merging"
   ]
  },
  {
   "cell_type": "code",
   "execution_count": 6,
   "id": "2e9da6e2-c682-4a49-9c4a-5265e136c7c9",
   "metadata": {},
   "outputs": [
    {
     "data": {
      "text/html": [
       "<div>\n",
       "<style scoped>\n",
       "    .dataframe tbody tr th:only-of-type {\n",
       "        vertical-align: middle;\n",
       "    }\n",
       "\n",
       "    .dataframe tbody tr th {\n",
       "        vertical-align: top;\n",
       "    }\n",
       "\n",
       "    .dataframe thead th {\n",
       "        text-align: right;\n",
       "    }\n",
       "</style>\n",
       "<table border=\"1\" class=\"dataframe\">\n",
       "  <thead>\n",
       "    <tr style=\"text-align: right;\">\n",
       "      <th></th>\n",
       "      <th>ID_CLIENT</th>\n",
       "      <th>LOAN_COUNT</th>\n",
       "      <th>CLOSED_FL</th>\n",
       "    </tr>\n",
       "  </thead>\n",
       "  <tbody>\n",
       "    <tr>\n",
       "      <th>0</th>\n",
       "      <td>106804370</td>\n",
       "      <td>1</td>\n",
       "      <td>1</td>\n",
       "    </tr>\n",
       "    <tr>\n",
       "      <th>1</th>\n",
       "      <td>106804371</td>\n",
       "      <td>1</td>\n",
       "      <td>1</td>\n",
       "    </tr>\n",
       "    <tr>\n",
       "      <th>2</th>\n",
       "      <td>106804372</td>\n",
       "      <td>2</td>\n",
       "      <td>1</td>\n",
       "    </tr>\n",
       "    <tr>\n",
       "      <th>3</th>\n",
       "      <td>106804373</td>\n",
       "      <td>1</td>\n",
       "      <td>1</td>\n",
       "    </tr>\n",
       "    <tr>\n",
       "      <th>4</th>\n",
       "      <td>106804374</td>\n",
       "      <td>2</td>\n",
       "      <td>1</td>\n",
       "    </tr>\n",
       "  </tbody>\n",
       "</table>\n",
       "</div>"
      ],
      "text/plain": [
       "   ID_CLIENT  LOAN_COUNT  CLOSED_FL\n",
       "0  106804370           1          1\n",
       "1  106804371           1          1\n",
       "2  106804372           2          1\n",
       "3  106804373           1          1\n",
       "4  106804374           2          1"
      ]
     },
     "execution_count": 6,
     "metadata": {},
     "output_type": "execute_result"
    }
   ],
   "source": [
    "df_loan2 = df_loan.merge(df_close_loan, on='ID_LOAN')\n",
    "df_loan_count = df_loan2.groupby(['ID_CLIENT'], as_index=False).agg({'ID_LOAN': 'count', 'CLOSED_FL': 'sum'})\n",
    "df_loan_count = df_loan_count.rename(columns={'ID_LOAN': 'LOAN_COUNT'})\n",
    "\n",
    "df_loan_count.head()"
   ]
  },
  {
   "cell_type": "code",
   "execution_count": 7,
   "id": "08f18f08-8d5b-40d1-8577-c50ac18d3f8d",
   "metadata": {},
   "outputs": [],
   "source": [
    "df1 = df_clients.merge(df_salary, left_on='ID', right_on='ID_CLIENT', how='inner')\n",
    "df1.drop('ID', axis=1, inplace=True)\n",
    "\n",
    "df2 = df1.merge(df_job)\n",
    "df3 = df2.merge(df_last_credit)\n",
    "df4 = df3.merge(df_loan_count)"
   ]
  },
  {
   "cell_type": "code",
   "execution_count": 8,
   "id": "701b08dd-8a6d-4c7d-a9b9-f0f961eb0d55",
   "metadata": {},
   "outputs": [
    {
     "data": {
      "text/plain": [
       "(15523, 25)"
      ]
     },
     "execution_count": 8,
     "metadata": {},
     "output_type": "execute_result"
    }
   ],
   "source": [
    "df4.shape"
   ]
  },
  {
   "cell_type": "code",
   "execution_count": 9,
   "id": "2b200a91-28cc-49fd-9a04-c9e1492764cf",
   "metadata": {},
   "outputs": [],
   "source": [
    "# df4 = df4.drop_duplicates()"
   ]
  },
  {
   "cell_type": "code",
   "execution_count": 10,
   "id": "cf7af31e-3614-4b14-af0d-c018ec38226d",
   "metadata": {},
   "outputs": [
    {
     "data": {
      "text/plain": [
       "(15523, 25)"
      ]
     },
     "execution_count": 10,
     "metadata": {},
     "output_type": "execute_result"
    }
   ],
   "source": [
    "df4.shape"
   ]
  },
  {
   "cell_type": "code",
   "execution_count": 11,
   "id": "affef657-ee10-4c94-924d-b09e44b3d149",
   "metadata": {},
   "outputs": [
    {
     "data": {
      "text/html": [
       "<div>\n",
       "<style scoped>\n",
       "    .dataframe tbody tr th:only-of-type {\n",
       "        vertical-align: middle;\n",
       "    }\n",
       "\n",
       "    .dataframe tbody tr th {\n",
       "        vertical-align: top;\n",
       "    }\n",
       "\n",
       "    .dataframe thead th {\n",
       "        text-align: right;\n",
       "    }\n",
       "</style>\n",
       "<table border=\"1\" class=\"dataframe\">\n",
       "  <thead>\n",
       "    <tr style=\"text-align: right;\">\n",
       "      <th></th>\n",
       "      <th>AGREEMENT_RK</th>\n",
       "      <th>ID_CLIENT</th>\n",
       "      <th>TARGET</th>\n",
       "    </tr>\n",
       "  </thead>\n",
       "  <tbody>\n",
       "    <tr>\n",
       "      <th>0</th>\n",
       "      <td>59910150</td>\n",
       "      <td>106804370</td>\n",
       "      <td>0</td>\n",
       "    </tr>\n",
       "    <tr>\n",
       "      <th>1</th>\n",
       "      <td>59910230</td>\n",
       "      <td>106804371</td>\n",
       "      <td>0</td>\n",
       "    </tr>\n",
       "    <tr>\n",
       "      <th>2</th>\n",
       "      <td>59910525</td>\n",
       "      <td>106804372</td>\n",
       "      <td>0</td>\n",
       "    </tr>\n",
       "    <tr>\n",
       "      <th>3</th>\n",
       "      <td>59910803</td>\n",
       "      <td>106804373</td>\n",
       "      <td>0</td>\n",
       "    </tr>\n",
       "    <tr>\n",
       "      <th>4</th>\n",
       "      <td>59911781</td>\n",
       "      <td>106804374</td>\n",
       "      <td>0</td>\n",
       "    </tr>\n",
       "  </tbody>\n",
       "</table>\n",
       "</div>"
      ],
      "text/plain": [
       "   AGREEMENT_RK  ID_CLIENT  TARGET\n",
       "0      59910150  106804370       0\n",
       "1      59910230  106804371       0\n",
       "2      59910525  106804372       0\n",
       "3      59910803  106804373       0\n",
       "4      59911781  106804374       0"
      ]
     },
     "execution_count": 11,
     "metadata": {},
     "output_type": "execute_result"
    }
   ],
   "source": [
    "df_target.head()"
   ]
  },
  {
   "cell_type": "code",
   "execution_count": 12,
   "id": "f77ca181-0631-4981-81f8-c9d641e6b5d8",
   "metadata": {},
   "outputs": [
    {
     "data": {
      "text/plain": [
       "0    106805103\n",
       "1    106809308\n",
       "2    106805867\n",
       "3    106808779\n",
       "4    106814289\n",
       "Name: ID_CLIENT, dtype: int64"
      ]
     },
     "execution_count": 12,
     "metadata": {},
     "output_type": "execute_result"
    }
   ],
   "source": [
    "df4['ID_CLIENT'].head()"
   ]
  },
  {
   "cell_type": "code",
   "execution_count": 13,
   "id": "13165057-fc64-4ad1-ba32-7e063e36a906",
   "metadata": {},
   "outputs": [],
   "source": [
    "df5 = pd.merge(left=df4, right=df_target, on='ID_CLIENT', how='inner')"
   ]
  },
  {
   "cell_type": "code",
   "execution_count": 22,
   "id": "57c7b6a0-3362-4ec6-8415-f4ecd85bbfcb",
   "metadata": {},
   "outputs": [
    {
     "data": {
      "text/html": [
       "<div>\n",
       "<style scoped>\n",
       "    .dataframe tbody tr th:only-of-type {\n",
       "        vertical-align: middle;\n",
       "    }\n",
       "\n",
       "    .dataframe tbody tr th {\n",
       "        vertical-align: top;\n",
       "    }\n",
       "\n",
       "    .dataframe thead th {\n",
       "        text-align: right;\n",
       "    }\n",
       "</style>\n",
       "<table border=\"1\" class=\"dataframe\">\n",
       "  <thead>\n",
       "    <tr style=\"text-align: right;\">\n",
       "      <th></th>\n",
       "      <th>AGE</th>\n",
       "      <th>GENDER</th>\n",
       "      <th>EDUCATION</th>\n",
       "      <th>MARITAL_STATUS</th>\n",
       "      <th>CHILD_TOTAL</th>\n",
       "      <th>DEPENDANTS</th>\n",
       "      <th>SOCSTATUS_WORK_FL</th>\n",
       "      <th>SOCSTATUS_PENS_FL</th>\n",
       "      <th>REG_ADDRESS_PROVINCE</th>\n",
       "      <th>FACT_ADDRESS_PROVINCE</th>\n",
       "      <th>...</th>\n",
       "      <th>GEN_TITLE</th>\n",
       "      <th>JOB_DIR</th>\n",
       "      <th>WORK_TIME</th>\n",
       "      <th>CREDIT</th>\n",
       "      <th>TERM</th>\n",
       "      <th>FST_PAYMENT</th>\n",
       "      <th>LOAN_COUNT</th>\n",
       "      <th>CLOSED_FL</th>\n",
       "      <th>AGREEMENT_RK</th>\n",
       "      <th>TARGET</th>\n",
       "    </tr>\n",
       "  </thead>\n",
       "  <tbody>\n",
       "    <tr>\n",
       "      <th>0</th>\n",
       "      <td>42</td>\n",
       "      <td>1</td>\n",
       "      <td>Среднее</td>\n",
       "      <td>Не состоял в браке</td>\n",
       "      <td>1</td>\n",
       "      <td>0</td>\n",
       "      <td>1</td>\n",
       "      <td>0</td>\n",
       "      <td>Московская область</td>\n",
       "      <td>Московская область</td>\n",
       "      <td>...</td>\n",
       "      <td>Работник сферы услуг</td>\n",
       "      <td>Участие в основ. деятельности</td>\n",
       "      <td>3.0</td>\n",
       "      <td>5588.0</td>\n",
       "      <td>6</td>\n",
       "      <td>1000.0</td>\n",
       "      <td>1</td>\n",
       "      <td>0</td>\n",
       "      <td>60099204</td>\n",
       "      <td>1</td>\n",
       "    </tr>\n",
       "    <tr>\n",
       "      <th>1</th>\n",
       "      <td>28</td>\n",
       "      <td>1</td>\n",
       "      <td>Среднее специальное</td>\n",
       "      <td>Состою в браке</td>\n",
       "      <td>1</td>\n",
       "      <td>1</td>\n",
       "      <td>1</td>\n",
       "      <td>0</td>\n",
       "      <td>Читинская область</td>\n",
       "      <td>Читинская область</td>\n",
       "      <td>...</td>\n",
       "      <td>Специалист</td>\n",
       "      <td>Участие в основ. деятельности</td>\n",
       "      <td>5.0</td>\n",
       "      <td>19498.0</td>\n",
       "      <td>12</td>\n",
       "      <td>0.0</td>\n",
       "      <td>1</td>\n",
       "      <td>0</td>\n",
       "      <td>62244665</td>\n",
       "      <td>0</td>\n",
       "    </tr>\n",
       "    <tr>\n",
       "      <th>2</th>\n",
       "      <td>64</td>\n",
       "      <td>0</td>\n",
       "      <td>Среднее специальное</td>\n",
       "      <td>Состою в браке</td>\n",
       "      <td>2</td>\n",
       "      <td>0</td>\n",
       "      <td>1</td>\n",
       "      <td>1</td>\n",
       "      <td>Иркутская область</td>\n",
       "      <td>Иркутская область</td>\n",
       "      <td>...</td>\n",
       "      <td>Руководитель высшего звена</td>\n",
       "      <td>Участие в основ. деятельности</td>\n",
       "      <td>360.0</td>\n",
       "      <td>15470.0</td>\n",
       "      <td>3</td>\n",
       "      <td>15000.0</td>\n",
       "      <td>1</td>\n",
       "      <td>1</td>\n",
       "      <td>61050759</td>\n",
       "      <td>0</td>\n",
       "    </tr>\n",
       "    <tr>\n",
       "      <th>3</th>\n",
       "      <td>54</td>\n",
       "      <td>1</td>\n",
       "      <td>Среднее специальное</td>\n",
       "      <td>Состою в браке</td>\n",
       "      <td>0</td>\n",
       "      <td>0</td>\n",
       "      <td>1</td>\n",
       "      <td>0</td>\n",
       "      <td>Новосибирская область</td>\n",
       "      <td>Новосибирская область</td>\n",
       "      <td>...</td>\n",
       "      <td>Специалист</td>\n",
       "      <td>Участие в основ. деятельности</td>\n",
       "      <td>3.0</td>\n",
       "      <td>13960.0</td>\n",
       "      <td>6</td>\n",
       "      <td>2500.0</td>\n",
       "      <td>1</td>\n",
       "      <td>0</td>\n",
       "      <td>62079659</td>\n",
       "      <td>0</td>\n",
       "    </tr>\n",
       "    <tr>\n",
       "      <th>4</th>\n",
       "      <td>26</td>\n",
       "      <td>0</td>\n",
       "      <td>Среднее специальное</td>\n",
       "      <td>Состою в браке</td>\n",
       "      <td>1</td>\n",
       "      <td>1</td>\n",
       "      <td>1</td>\n",
       "      <td>0</td>\n",
       "      <td>Красноярский край</td>\n",
       "      <td>Красноярский край</td>\n",
       "      <td>...</td>\n",
       "      <td>Специалист</td>\n",
       "      <td>Участие в основ. деятельности</td>\n",
       "      <td>12.0</td>\n",
       "      <td>11890.0</td>\n",
       "      <td>6</td>\n",
       "      <td>8000.0</td>\n",
       "      <td>2</td>\n",
       "      <td>2</td>\n",
       "      <td>66583553</td>\n",
       "      <td>0</td>\n",
       "    </tr>\n",
       "  </tbody>\n",
       "</table>\n",
       "<p>5 rows × 27 columns</p>\n",
       "</div>"
      ],
      "text/plain": [
       "   AGE  GENDER            EDUCATION      MARITAL_STATUS  CHILD_TOTAL  \\\n",
       "0   42       1              Среднее  Не состоял в браке            1   \n",
       "1   28       1  Среднее специальное      Состою в браке            1   \n",
       "2   64       0  Среднее специальное      Состою в браке            2   \n",
       "3   54       1  Среднее специальное      Состою в браке            0   \n",
       "4   26       0  Среднее специальное      Состою в браке            1   \n",
       "\n",
       "   DEPENDANTS  SOCSTATUS_WORK_FL  SOCSTATUS_PENS_FL   REG_ADDRESS_PROVINCE  \\\n",
       "0           0                  1                  0     Московская область   \n",
       "1           1                  1                  0      Читинская область   \n",
       "2           0                  1                  1      Иркутская область   \n",
       "3           0                  1                  0  Новосибирская область   \n",
       "4           1                  1                  0      Красноярский край   \n",
       "\n",
       "   FACT_ADDRESS_PROVINCE  ...                   GEN_TITLE  \\\n",
       "0     Московская область  ...        Работник сферы услуг   \n",
       "1      Читинская область  ...                  Специалист   \n",
       "2      Иркутская область  ...  Руководитель высшего звена   \n",
       "3  Новосибирская область  ...                  Специалист   \n",
       "4      Красноярский край  ...                  Специалист   \n",
       "\n",
       "                         JOB_DIR  WORK_TIME   CREDIT  TERM  FST_PAYMENT  \\\n",
       "0  Участие в основ. деятельности        3.0   5588.0     6       1000.0   \n",
       "1  Участие в основ. деятельности        5.0  19498.0    12          0.0   \n",
       "2  Участие в основ. деятельности      360.0  15470.0     3      15000.0   \n",
       "3  Участие в основ. деятельности        3.0  13960.0     6       2500.0   \n",
       "4  Участие в основ. деятельности       12.0  11890.0     6       8000.0   \n",
       "\n",
       "  LOAN_COUNT CLOSED_FL AGREEMENT_RK  TARGET  \n",
       "0          1         0     60099204       1  \n",
       "1          1         0     62244665       0  \n",
       "2          1         1     61050759       0  \n",
       "3          1         0     62079659       0  \n",
       "4          2         2     66583553       0  \n",
       "\n",
       "[5 rows x 27 columns]"
      ]
     },
     "execution_count": 22,
     "metadata": {},
     "output_type": "execute_result"
    }
   ],
   "source": [
    "df5.head()"
   ]
  },
  {
   "cell_type": "code",
   "execution_count": 24,
   "id": "f60141e9-89ae-458c-aacc-e1465ef2e29e",
   "metadata": {},
   "outputs": [],
   "source": [
    "df5.columns = map(str.lower, df5.columns)"
   ]
  },
  {
   "cell_type": "code",
   "execution_count": 25,
   "id": "4e12263d-d8da-4b23-9246-596d979bff2c",
   "metadata": {},
   "outputs": [
    {
     "data": {
      "text/html": [
       "<div>\n",
       "<style scoped>\n",
       "    .dataframe tbody tr th:only-of-type {\n",
       "        vertical-align: middle;\n",
       "    }\n",
       "\n",
       "    .dataframe tbody tr th {\n",
       "        vertical-align: top;\n",
       "    }\n",
       "\n",
       "    .dataframe thead th {\n",
       "        text-align: right;\n",
       "    }\n",
       "</style>\n",
       "<table border=\"1\" class=\"dataframe\">\n",
       "  <thead>\n",
       "    <tr style=\"text-align: right;\">\n",
       "      <th></th>\n",
       "      <th>age</th>\n",
       "      <th>gender</th>\n",
       "      <th>education</th>\n",
       "      <th>marital_status</th>\n",
       "      <th>child_total</th>\n",
       "      <th>dependants</th>\n",
       "      <th>socstatus_work_fl</th>\n",
       "      <th>socstatus_pens_fl</th>\n",
       "      <th>reg_address_province</th>\n",
       "      <th>fact_address_province</th>\n",
       "      <th>...</th>\n",
       "      <th>gen_title</th>\n",
       "      <th>job_dir</th>\n",
       "      <th>work_time</th>\n",
       "      <th>credit</th>\n",
       "      <th>term</th>\n",
       "      <th>fst_payment</th>\n",
       "      <th>loan_count</th>\n",
       "      <th>closed_fl</th>\n",
       "      <th>agreement_rk</th>\n",
       "      <th>target</th>\n",
       "    </tr>\n",
       "  </thead>\n",
       "  <tbody>\n",
       "    <tr>\n",
       "      <th>0</th>\n",
       "      <td>42</td>\n",
       "      <td>1</td>\n",
       "      <td>Среднее</td>\n",
       "      <td>Не состоял в браке</td>\n",
       "      <td>1</td>\n",
       "      <td>0</td>\n",
       "      <td>1</td>\n",
       "      <td>0</td>\n",
       "      <td>Московская область</td>\n",
       "      <td>Московская область</td>\n",
       "      <td>...</td>\n",
       "      <td>Работник сферы услуг</td>\n",
       "      <td>Участие в основ. деятельности</td>\n",
       "      <td>3.0</td>\n",
       "      <td>5588.0</td>\n",
       "      <td>6</td>\n",
       "      <td>1000.0</td>\n",
       "      <td>1</td>\n",
       "      <td>0</td>\n",
       "      <td>60099204</td>\n",
       "      <td>1</td>\n",
       "    </tr>\n",
       "    <tr>\n",
       "      <th>1</th>\n",
       "      <td>28</td>\n",
       "      <td>1</td>\n",
       "      <td>Среднее специальное</td>\n",
       "      <td>Состою в браке</td>\n",
       "      <td>1</td>\n",
       "      <td>1</td>\n",
       "      <td>1</td>\n",
       "      <td>0</td>\n",
       "      <td>Читинская область</td>\n",
       "      <td>Читинская область</td>\n",
       "      <td>...</td>\n",
       "      <td>Специалист</td>\n",
       "      <td>Участие в основ. деятельности</td>\n",
       "      <td>5.0</td>\n",
       "      <td>19498.0</td>\n",
       "      <td>12</td>\n",
       "      <td>0.0</td>\n",
       "      <td>1</td>\n",
       "      <td>0</td>\n",
       "      <td>62244665</td>\n",
       "      <td>0</td>\n",
       "    </tr>\n",
       "    <tr>\n",
       "      <th>2</th>\n",
       "      <td>64</td>\n",
       "      <td>0</td>\n",
       "      <td>Среднее специальное</td>\n",
       "      <td>Состою в браке</td>\n",
       "      <td>2</td>\n",
       "      <td>0</td>\n",
       "      <td>1</td>\n",
       "      <td>1</td>\n",
       "      <td>Иркутская область</td>\n",
       "      <td>Иркутская область</td>\n",
       "      <td>...</td>\n",
       "      <td>Руководитель высшего звена</td>\n",
       "      <td>Участие в основ. деятельности</td>\n",
       "      <td>360.0</td>\n",
       "      <td>15470.0</td>\n",
       "      <td>3</td>\n",
       "      <td>15000.0</td>\n",
       "      <td>1</td>\n",
       "      <td>1</td>\n",
       "      <td>61050759</td>\n",
       "      <td>0</td>\n",
       "    </tr>\n",
       "    <tr>\n",
       "      <th>3</th>\n",
       "      <td>54</td>\n",
       "      <td>1</td>\n",
       "      <td>Среднее специальное</td>\n",
       "      <td>Состою в браке</td>\n",
       "      <td>0</td>\n",
       "      <td>0</td>\n",
       "      <td>1</td>\n",
       "      <td>0</td>\n",
       "      <td>Новосибирская область</td>\n",
       "      <td>Новосибирская область</td>\n",
       "      <td>...</td>\n",
       "      <td>Специалист</td>\n",
       "      <td>Участие в основ. деятельности</td>\n",
       "      <td>3.0</td>\n",
       "      <td>13960.0</td>\n",
       "      <td>6</td>\n",
       "      <td>2500.0</td>\n",
       "      <td>1</td>\n",
       "      <td>0</td>\n",
       "      <td>62079659</td>\n",
       "      <td>0</td>\n",
       "    </tr>\n",
       "    <tr>\n",
       "      <th>4</th>\n",
       "      <td>26</td>\n",
       "      <td>0</td>\n",
       "      <td>Среднее специальное</td>\n",
       "      <td>Состою в браке</td>\n",
       "      <td>1</td>\n",
       "      <td>1</td>\n",
       "      <td>1</td>\n",
       "      <td>0</td>\n",
       "      <td>Красноярский край</td>\n",
       "      <td>Красноярский край</td>\n",
       "      <td>...</td>\n",
       "      <td>Специалист</td>\n",
       "      <td>Участие в основ. деятельности</td>\n",
       "      <td>12.0</td>\n",
       "      <td>11890.0</td>\n",
       "      <td>6</td>\n",
       "      <td>8000.0</td>\n",
       "      <td>2</td>\n",
       "      <td>2</td>\n",
       "      <td>66583553</td>\n",
       "      <td>0</td>\n",
       "    </tr>\n",
       "  </tbody>\n",
       "</table>\n",
       "<p>5 rows × 27 columns</p>\n",
       "</div>"
      ],
      "text/plain": [
       "   age  gender            education      marital_status  child_total  \\\n",
       "0   42       1              Среднее  Не состоял в браке            1   \n",
       "1   28       1  Среднее специальное      Состою в браке            1   \n",
       "2   64       0  Среднее специальное      Состою в браке            2   \n",
       "3   54       1  Среднее специальное      Состою в браке            0   \n",
       "4   26       0  Среднее специальное      Состою в браке            1   \n",
       "\n",
       "   dependants  socstatus_work_fl  socstatus_pens_fl   reg_address_province  \\\n",
       "0           0                  1                  0     Московская область   \n",
       "1           1                  1                  0      Читинская область   \n",
       "2           0                  1                  1      Иркутская область   \n",
       "3           0                  1                  0  Новосибирская область   \n",
       "4           1                  1                  0      Красноярский край   \n",
       "\n",
       "   fact_address_province  ...                   gen_title  \\\n",
       "0     Московская область  ...        Работник сферы услуг   \n",
       "1      Читинская область  ...                  Специалист   \n",
       "2      Иркутская область  ...  Руководитель высшего звена   \n",
       "3  Новосибирская область  ...                  Специалист   \n",
       "4      Красноярский край  ...                  Специалист   \n",
       "\n",
       "                         job_dir  work_time   credit  term  fst_payment  \\\n",
       "0  Участие в основ. деятельности        3.0   5588.0     6       1000.0   \n",
       "1  Участие в основ. деятельности        5.0  19498.0    12          0.0   \n",
       "2  Участие в основ. деятельности      360.0  15470.0     3      15000.0   \n",
       "3  Участие в основ. деятельности        3.0  13960.0     6       2500.0   \n",
       "4  Участие в основ. деятельности       12.0  11890.0     6       8000.0   \n",
       "\n",
       "  loan_count closed_fl agreement_rk  target  \n",
       "0          1         0     60099204       1  \n",
       "1          1         0     62244665       0  \n",
       "2          1         1     61050759       0  \n",
       "3          1         0     62079659       0  \n",
       "4          2         2     66583553       0  \n",
       "\n",
       "[5 rows x 27 columns]"
      ]
     },
     "execution_count": 25,
     "metadata": {},
     "output_type": "execute_result"
    }
   ],
   "source": [
    "df5.head()"
   ]
  },
  {
   "cell_type": "code",
   "execution_count": 26,
   "id": "a6db8bc0-4494-41bb-b441-5012a603a8c4",
   "metadata": {},
   "outputs": [],
   "source": [
    "df5.to_csv('data/client_dataset.csv', index=False)"
   ]
  },
  {
   "cell_type": "code",
   "execution_count": 28,
   "id": "777b6a14-0a7f-460f-98d1-fdb4e915927f",
   "metadata": {},
   "outputs": [],
   "source": [
    "df6 = pd.read_csv('data/client_dataset.csv')"
   ]
  },
  {
   "cell_type": "code",
   "execution_count": 29,
   "id": "f9cbdefa-d990-4783-b6ee-d4dde4abf6d7",
   "metadata": {},
   "outputs": [
    {
     "data": {
      "text/plain": [
       "gen_industry    1397\n",
       "gen_title       1397\n",
       "job_dir         1397\n",
       "work_time       1398\n",
       "dtype: int64"
      ]
     },
     "execution_count": 29,
     "metadata": {},
     "output_type": "execute_result"
    }
   ],
   "source": [
    "df6.isna().sum()[df6.isna().sum() > 0]"
   ]
  },
  {
   "cell_type": "code",
   "execution_count": 13,
   "id": "7e6e171e-b773-40a9-b283-d3a4d69294f1",
   "metadata": {},
   "outputs": [],
   "source": [
    "# df6 = df5.copy()"
   ]
  },
  {
   "cell_type": "code",
   "execution_count": 69,
   "id": "19e67d10-c188-4266-9c78-75f6b07fa09c",
   "metadata": {},
   "outputs": [
    {
     "data": {
      "text/plain": [
       "(15523, 27)"
      ]
     },
     "execution_count": 69,
     "metadata": {},
     "output_type": "execute_result"
    }
   ],
   "source": [
    "df6.shape"
   ]
  },
  {
   "cell_type": "code",
   "execution_count": 70,
   "id": "3d578496-b825-4217-a52a-49de4efefe8b",
   "metadata": {},
   "outputs": [
    {
     "name": "stdout",
     "output_type": "stream",
     "text": [
      "<class 'pandas.core.frame.DataFrame'>\n",
      "RangeIndex: 15523 entries, 0 to 15522\n",
      "Data columns (total 4 columns):\n",
      " #   Column        Non-Null Count  Dtype  \n",
      "---  ------        --------------  -----  \n",
      " 0   GEN_INDUSTRY  14126 non-null  object \n",
      " 1   GEN_TITLE     14126 non-null  object \n",
      " 2   JOB_DIR       14126 non-null  object \n",
      " 3   WORK_TIME     14125 non-null  float64\n",
      "dtypes: float64(1), object(3)\n",
      "memory usage: 485.2+ KB\n"
     ]
    }
   ],
   "source": [
    "na_cols = df6.columns[df6.isna().sum() > 0]\n",
    "df6[na_cols].info()"
   ]
  },
  {
   "cell_type": "code",
   "execution_count": 71,
   "id": "9156b663-5530-4500-b9fe-56e67422fbdd",
   "metadata": {},
   "outputs": [],
   "source": [
    "df7 = df6.copy()"
   ]
  },
  {
   "cell_type": "code",
   "execution_count": 72,
   "id": "cf5c4447-8a30-47c0-b44e-3236037629c5",
   "metadata": {},
   "outputs": [],
   "source": [
    "from sklearn.impute import SimpleImputer\n",
    "from sklearn.preprocessing import OneHotEncoder, StandardScaler\n",
    "from sklearn.compose import ColumnTransformer \n",
    "\n",
    "import association_metrics as am\n",
    "import seaborn as sns"
   ]
  },
  {
   "cell_type": "code",
   "execution_count": 73,
   "id": "0276feb1-4e4b-4e02-a87f-1daaafe02779",
   "metadata": {},
   "outputs": [],
   "source": [
    "# train, test = train_test_split(df8, test_size=0.25, random_state=42, stratify=df8['TARGET'])\n",
    "\n",
    "num_features = df7.select_dtypes(include=['int', 'float']).columns\n",
    "cat_features = df7.select_dtypes(include=['object', 'category']).columns\n",
    "\n",
    "# df7 = remove_outliers(df7)\n",
    "\n",
    "data_1 = df7[list(cat_features) + ['TARGET']]\n",
    "data_2 = df7[num_features]"
   ]
  },
  {
   "cell_type": "code",
   "execution_count": 74,
   "id": "548d62e9-f72c-4528-bd5d-61a9d66fdb31",
   "metadata": {},
   "outputs": [
    {
     "data": {
      "text/plain": [
       "0    13670\n",
       "1     1853\n",
       "Name: TARGET, dtype: int64"
      ]
     },
     "execution_count": 74,
     "metadata": {},
     "output_type": "execute_result"
    }
   ],
   "source": [
    "data_1['TARGET'].value_counts()"
   ]
  },
  {
   "cell_type": "code",
   "execution_count": 75,
   "id": "03e70b77-8881-46c1-b021-0c28ef8440c6",
   "metadata": {},
   "outputs": [
    {
     "data": {
      "image/png": "[encoded data removed]",
      "text/plain": [
       "<Figure size 1000x800 with 2 Axes>"
      ]
     },
     "metadata": {},
     "output_type": "display_data"
    }
   ],
   "source": [
    "cramersv = am.CramersV(data_1.astype('category'))\n",
    "cr = cramersv.fit()\n",
    "\n",
    "plt.figure(figsize=(10, 8))\n",
    "sns.heatmap(cr, annot=True)\n",
    "plt.show()"
   ]
  },
  {
   "cell_type": "code",
   "execution_count": 77,
   "id": "648a5e69-de81-4494-a376-5fd8cbd620d8",
   "metadata": {},
   "outputs": [
    {
     "data": {
      "text/html": [
       "<div>\n",
       "<style scoped>\n",
       "    .dataframe tbody tr th:only-of-type {\n",
       "        vertical-align: middle;\n",
       "    }\n",
       "\n",
       "    .dataframe tbody tr th {\n",
       "        vertical-align: top;\n",
       "    }\n",
       "\n",
       "    .dataframe thead th {\n",
       "        text-align: right;\n",
       "    }\n",
       "</style>\n",
       "<table border=\"1\" class=\"dataframe\">\n",
       "  <thead>\n",
       "    <tr style=\"text-align: right;\">\n",
       "      <th></th>\n",
       "      <th>EDUCATION</th>\n",
       "      <th>MARITAL_STATUS</th>\n",
       "      <th>REG_ADDRESS_PROVINCE</th>\n",
       "      <th>FACT_ADDRESS_PROVINCE</th>\n",
       "      <th>POSTAL_ADDRESS_PROVINCE</th>\n",
       "      <th>FAMILY_INCOME</th>\n",
       "      <th>GEN_INDUSTRY</th>\n",
       "      <th>GEN_TITLE</th>\n",
       "      <th>JOB_DIR</th>\n",
       "      <th>TARGET</th>\n",
       "    </tr>\n",
       "  </thead>\n",
       "  <tbody>\n",
       "    <tr>\n",
       "      <th>EDUCATION</th>\n",
       "      <td>1.000000</td>\n",
       "      <td>0.065899</td>\n",
       "      <td>0.099039</td>\n",
       "      <td>0.099456</td>\n",
       "      <td>0.100349</td>\n",
       "      <td>0.120859</td>\n",
       "      <td>0.127850</td>\n",
       "      <td>0.146235</td>\n",
       "      <td>0.090929</td>\n",
       "      <td>0.046997</td>\n",
       "    </tr>\n",
       "    <tr>\n",
       "      <th>MARITAL_STATUS</th>\n",
       "      <td>0.065899</td>\n",
       "      <td>1.000000</td>\n",
       "      <td>0.101769</td>\n",
       "      <td>0.102013</td>\n",
       "      <td>0.101889</td>\n",
       "      <td>0.143917</td>\n",
       "      <td>0.075021</td>\n",
       "      <td>0.048758</td>\n",
       "      <td>0.032750</td>\n",
       "      <td>0.040479</td>\n",
       "    </tr>\n",
       "    <tr>\n",
       "      <th>REG_ADDRESS_PROVINCE</th>\n",
       "      <td>0.099039</td>\n",
       "      <td>0.101769</td>\n",
       "      <td>1.000000</td>\n",
       "      <td>0.975925</td>\n",
       "      <td>0.988477</td>\n",
       "      <td>0.248919</td>\n",
       "      <td>0.102404</td>\n",
       "      <td>0.108379</td>\n",
       "      <td>0.092376</td>\n",
       "      <td>0.121848</td>\n",
       "    </tr>\n",
       "    <tr>\n",
       "      <th>FACT_ADDRESS_PROVINCE</th>\n",
       "      <td>0.099456</td>\n",
       "      <td>0.102013</td>\n",
       "      <td>0.975925</td>\n",
       "      <td>1.000000</td>\n",
       "      <td>0.993044</td>\n",
       "      <td>0.259591</td>\n",
       "      <td>0.102509</td>\n",
       "      <td>0.108580</td>\n",
       "      <td>0.096927</td>\n",
       "      <td>0.127960</td>\n",
       "    </tr>\n",
       "    <tr>\n",
       "      <th>POSTAL_ADDRESS_PROVINCE</th>\n",
       "      <td>0.100349</td>\n",
       "      <td>0.101889</td>\n",
       "      <td>0.988477</td>\n",
       "      <td>0.993044</td>\n",
       "      <td>1.000000</td>\n",
       "      <td>0.256935</td>\n",
       "      <td>0.102320</td>\n",
       "      <td>0.107371</td>\n",
       "      <td>0.089656</td>\n",
       "      <td>0.128702</td>\n",
       "    </tr>\n",
       "    <tr>\n",
       "      <th>FAMILY_INCOME</th>\n",
       "      <td>0.120859</td>\n",
       "      <td>0.143917</td>\n",
       "      <td>0.248919</td>\n",
       "      <td>0.259591</td>\n",
       "      <td>0.256935</td>\n",
       "      <td>1.000000</td>\n",
       "      <td>0.116202</td>\n",
       "      <td>0.118707</td>\n",
       "      <td>0.068411</td>\n",
       "      <td>0.076022</td>\n",
       "    </tr>\n",
       "    <tr>\n",
       "      <th>GEN_INDUSTRY</th>\n",
       "      <td>0.127850</td>\n",
       "      <td>0.075021</td>\n",
       "      <td>0.102404</td>\n",
       "      <td>0.102509</td>\n",
       "      <td>0.102320</td>\n",
       "      <td>0.116202</td>\n",
       "      <td>1.000000</td>\n",
       "      <td>0.135089</td>\n",
       "      <td>0.129598</td>\n",
       "      <td>0.090215</td>\n",
       "    </tr>\n",
       "    <tr>\n",
       "      <th>GEN_TITLE</th>\n",
       "      <td>0.146235</td>\n",
       "      <td>0.048758</td>\n",
       "      <td>0.108379</td>\n",
       "      <td>0.108580</td>\n",
       "      <td>0.107371</td>\n",
       "      <td>0.118707</td>\n",
       "      <td>0.135089</td>\n",
       "      <td>1.000000</td>\n",
       "      <td>0.096745</td>\n",
       "      <td>0.050410</td>\n",
       "    </tr>\n",
       "    <tr>\n",
       "      <th>JOB_DIR</th>\n",
       "      <td>0.090929</td>\n",
       "      <td>0.032750</td>\n",
       "      <td>0.092376</td>\n",
       "      <td>0.096927</td>\n",
       "      <td>0.089656</td>\n",
       "      <td>0.068411</td>\n",
       "      <td>0.129598</td>\n",
       "      <td>0.096745</td>\n",
       "      <td>1.000000</td>\n",
       "      <td>0.032827</td>\n",
       "    </tr>\n",
       "    <tr>\n",
       "      <th>TARGET</th>\n",
       "      <td>0.046997</td>\n",
       "      <td>0.040479</td>\n",
       "      <td>0.121848</td>\n",
       "      <td>0.127960</td>\n",
       "      <td>0.128702</td>\n",
       "      <td>0.076022</td>\n",
       "      <td>0.090215</td>\n",
       "      <td>0.050410</td>\n",
       "      <td>0.032827</td>\n",
       "      <td>1.000000</td>\n",
       "    </tr>\n",
       "  </tbody>\n",
       "</table>\n",
       "</div>"
      ],
      "text/plain": [
       "                         EDUCATION  MARITAL_STATUS  REG_ADDRESS_PROVINCE  \\\n",
       "EDUCATION                 1.000000        0.065899              0.099039   \n",
       "MARITAL_STATUS            0.065899        1.000000              0.101769   \n",
       "REG_ADDRESS_PROVINCE      0.099039        0.101769              1.000000   \n",
       "FACT_ADDRESS_PROVINCE     0.099456        0.102013              0.975925   \n",
       "POSTAL_ADDRESS_PROVINCE   0.100349        0.101889              0.988477   \n",
       "FAMILY_INCOME             0.120859        0.143917              0.248919   \n",
       "GEN_INDUSTRY              0.127850        0.075021              0.102404   \n",
       "GEN_TITLE                 0.146235        0.048758              0.108379   \n",
       "JOB_DIR                   0.090929        0.032750              0.092376   \n",
       "TARGET                    0.046997        0.040479              0.121848   \n",
       "\n",
       "                         FACT_ADDRESS_PROVINCE  POSTAL_ADDRESS_PROVINCE  \\\n",
       "EDUCATION                             0.099456                 0.100349   \n",
       "MARITAL_STATUS                        0.102013                 0.101889   \n",
       "REG_ADDRESS_PROVINCE                  0.975925                 0.988477   \n",
       "FACT_ADDRESS_PROVINCE                 1.000000                 0.993044   \n",
       "POSTAL_ADDRESS_PROVINCE               0.993044                 1.000000   \n",
       "FAMILY_INCOME                         0.259591                 0.256935   \n",
       "GEN_INDUSTRY                          0.102509                 0.102320   \n",
       "GEN_TITLE                             0.108580                 0.107371   \n",
       "JOB_DIR                               0.096927                 0.089656   \n",
       "TARGET                                0.127960                 0.128702   \n",
       "\n",
       "                         FAMILY_INCOME  GEN_INDUSTRY  GEN_TITLE   JOB_DIR  \\\n",
       "EDUCATION                     0.120859      0.127850   0.146235  0.090929   \n",
       "MARITAL_STATUS                0.143917      0.075021   0.048758  0.032750   \n",
       "REG_ADDRESS_PROVINCE          0.248919      0.102404   0.108379  0.092376   \n",
       "FACT_ADDRESS_PROVINCE         0.259591      0.102509   0.108580  0.096927   \n",
       "POSTAL_ADDRESS_PROVINCE       0.256935      0.102320   0.107371  0.089656   \n",
       "FAMILY_INCOME                 1.000000      0.116202   0.118707  0.068411   \n",
       "GEN_INDUSTRY                  0.116202      1.000000   0.135089  0.129598   \n",
       "GEN_TITLE                     0.118707      0.135089   1.000000  0.096745   \n",
       "JOB_DIR                       0.068411      0.129598   0.096745  1.000000   \n",
       "TARGET                        0.076022      0.090215   0.050410  0.032827   \n",
       "\n",
       "                           TARGET  \n",
       "EDUCATION                0.046997  \n",
       "MARITAL_STATUS           0.040479  \n",
       "REG_ADDRESS_PROVINCE     0.121848  \n",
       "FACT_ADDRESS_PROVINCE    0.127960  \n",
       "POSTAL_ADDRESS_PROVINCE  0.128702  \n",
       "FAMILY_INCOME            0.076022  \n",
       "GEN_INDUSTRY             0.090215  \n",
       "GEN_TITLE                0.050410  \n",
       "JOB_DIR                  0.032827  \n",
       "TARGET                   1.000000  "
      ]
     },
     "execution_count": 77,
     "metadata": {},
     "output_type": "execute_result"
    }
   ],
   "source": [
    "cr"
   ]
  },
  {
   "cell_type": "code",
   "execution_count": 76,
   "id": "1c1ebe16-c1d6-4a60-b09d-8aa81a3485dd",
   "metadata": {},
   "outputs": [
    {
     "data": {
      "image/png": "[encoded data removed]",
      "text/plain": [
       "<Figure size 1500x1000 with 2 Axes>"
      ]
     },
     "metadata": {},
     "output_type": "display_data"
    }
   ],
   "source": [
    "plt.figure(figsize=(15, 10))\n",
    "sns.heatmap(data_2.corr(), annot=True)\n",
    "plt.show()"
   ]
  },
  {
   "cell_type": "code",
   "execution_count": 26,
   "id": "88fbd49d-b800-4a7b-87a2-c4f6f81fafbb",
   "metadata": {},
   "outputs": [],
   "source": [
    "col_to_drop = ['SOCSTATUS_PENS_FL', \n",
    "               'CLOSED_FL', \n",
    "               'REG_ADDRESS_PROVINCE',\n",
    "               'POSTAL_ADDRESS_PROVINCE', \n",
    "               'AGREEMENT_RK', \n",
    "               'ID_CLIENT']"
   ]
  },
  {
   "cell_type": "markdown",
   "id": "f01c933f-e6fb-4db2-884d-15723d4ea7ad",
   "metadata": {},
   "source": [
    "# resample"
   ]
  },
  {
   "cell_type": "code",
   "execution_count": 110,
   "id": "3254c51e-3ebc-4dfd-929e-6cc2404687b4",
   "metadata": {},
   "outputs": [],
   "source": [
    "df8 = df7.drop(col_to_drop, axis=1)"
   ]
  },
  {
   "cell_type": "code",
   "execution_count": 111,
   "id": "84c47496-f018-446c-a72d-1351fffb8a25",
   "metadata": {},
   "outputs": [],
   "source": [
    "train, test = train_test_split(df8, test_size=0.25, random_state=42, stratify=df8['TARGET'])"
   ]
  },
  {
   "cell_type": "code",
   "execution_count": 112,
   "id": "ae64580f-f4d6-4dce-991b-5a84c973c86b",
   "metadata": {},
   "outputs": [],
   "source": [
    "def data_resample(df):\n",
    "\n",
    "    df = df.copy()\n",
    "\n",
    "    df_min = df[df['TARGET'] == 1]\n",
    "    df_maj = df[df['TARGET'] == 0]\n",
    "    \n",
    "    df_upsample = resample(df_min, replace=True, n_samples=len(df_maj), random_state=42)\n",
    "    \n",
    "    df = pd.concat([df_maj, df_upsample], ignore_index=True).sample(frac=1.)\n",
    "    \n",
    "    return df"
   ]
  },
  {
   "cell_type": "code",
   "execution_count": 113,
   "id": "71804c8c-f8d4-4eec-ac79-4fd590ddc32d",
   "metadata": {},
   "outputs": [
    {
     "data": {
      "text/plain": [
       "(20116, 21)"
      ]
     },
     "execution_count": 113,
     "metadata": {},
     "output_type": "execute_result"
    }
   ],
   "source": [
    "train = data_resample(train)\n",
    "train.shape"
   ]
  },
  {
   "cell_type": "code",
   "execution_count": 119,
   "id": "68d4878a-c9d1-48fc-a334-f0a30c475999",
   "metadata": {},
   "outputs": [],
   "source": [
    "X = train.drop('TARGET', axis=1)\n",
    "y = train['TARGET']\n",
    "\n",
    "num_features = X.select_dtypes(include=['int', 'float']).columns\n",
    "cat_features = X.select_dtypes(include=['object', 'category']).columns"
   ]
  },
  {
   "cell_type": "code",
   "execution_count": null,
   "id": "2b115a37-4dcf-4284-9c9a-be2b45f4dca9",
   "metadata": {},
   "outputs": [],
   "source": []
  },
  {
   "cell_type": "code",
   "execution_count": 120,
   "id": "bd7f1b1b-8ec9-49cf-b910-69be5d924ca4",
   "metadata": {},
   "outputs": [
    {
     "data": {
      "text/plain": [
       "array([[2.500e+01, 0.000e+00, 0.000e+00, ..., 6.000e+00, 4.600e+02,\n",
       "        1.000e+00],\n",
       "       [6.300e+01, 1.000e+00, 0.000e+00, ..., 6.000e+00, 1.524e+03,\n",
       "        1.000e+00],\n",
       "       [3.400e+01, 0.000e+00, 2.000e+00, ..., 1.200e+01, 6.933e+03,\n",
       "        1.000e+00],\n",
       "       ...,\n",
       "       [3.600e+01, 1.000e+00, 2.000e+00, ..., 8.000e+00, 8.500e+03,\n",
       "        1.000e+00],\n",
       "       [2.400e+01, 1.000e+00, 1.000e+00, ..., 1.200e+01, 2.500e+03,\n",
       "        1.000e+00],\n",
       "       [2.500e+01, 0.000e+00, 0.000e+00, ..., 1.000e+01, 1.000e+03,\n",
       "        1.000e+00]])"
      ]
     },
     "execution_count": 120,
     "metadata": {},
     "output_type": "execute_result"
    }
   ],
   "source": [
    "imputer = SimpleImputer(strategy='median')\n",
    "imputer.fit_transform(X[num_features])"
   ]
  },
  {
   "cell_type": "code",
   "execution_count": 121,
   "id": "4e6fefaa-33bb-46ee-b8f6-242bd2238033",
   "metadata": {},
   "outputs": [
    {
     "data": {
      "text/plain": [
       "array([['Среднее специальное', 'Не состоял в браке',\n",
       "        'Астраханская область', ..., 'Развлечения/Искусство',\n",
       "        'Специалист', 'Участие в основ. деятельности'],\n",
       "       ['Высшее', 'Не состоял в браке', 'Курская область', ...,\n",
       "        'Торговля', 'Специалист', 'Участие в основ. деятельности'],\n",
       "       ['Среднее', 'Состою в браке', 'Бурятия', ..., 'Торговля',\n",
       "        'Индивидуальный предприниматель',\n",
       "        'Бухгалтерия, финансы, планир.'],\n",
       "       ...,\n",
       "       ['Среднее', 'Состою в браке', 'Краснодарский край', ...,\n",
       "        'Торговля', 'Рабочий', 'Участие в основ. деятельности'],\n",
       "       ['Среднее специальное', 'Состою в браке', 'Архангельская область',\n",
       "        ..., 'Здравоохранение', 'Специалист',\n",
       "        'Участие в основ. деятельности'],\n",
       "       ['Высшее', 'Не состоял в браке', 'Кабардино-Балкария', ...,\n",
       "        'Государственная служба', 'Высококвалифиц. специалист',\n",
       "        'Участие в основ. деятельности']], dtype=object)"
      ]
     },
     "execution_count": 121,
     "metadata": {},
     "output_type": "execute_result"
    }
   ],
   "source": [
    "imputer = SimpleImputer(strategy='most_frequent')\n",
    "imputer.fit_transform(X[cat_features])"
   ]
  },
  {
   "cell_type": "code",
   "execution_count": 115,
   "id": "52294671-325b-4aaf-93ab-02907c932073",
   "metadata": {},
   "outputs": [],
   "source": [
    "numerical_transformer= Pipeline(steps=[\n",
    "        ('imputer', SimpleImputer(strategy='median')),\n",
    "        ('scaler', StandardScaler())\n",
    "    ])\n",
    "\n",
    "categorical_transformer= Pipeline(steps=[\n",
    "        ('imputer', SimpleImputer(strategy='most_frequent')),\n",
    "        ('encoder', OneHotEncoder(drop='first', handle_unknown='ignore'))\n",
    "    ])\n",
    "\n",
    "preprocessor = ColumnTransformer(transformers=[\n",
    "    ('numerical', numerical_transformer, num_features),\n",
    "    ('categorical', categorical_transformer, cat_features)\n",
    "])\n",
    "\n",
    "X = preprocessor.fit_transform(X)"
   ]
  },
  {
   "cell_type": "code",
   "execution_count": 117,
   "id": "9b4350e3-aa61-4a0f-bcd4-8ce16759cdb3",
   "metadata": {},
   "outputs": [
    {
     "data": {
      "text/plain": [
       "array([[-1.24623313, -1.32542421, -1.1014699 , ...,  0.        ,\n",
       "         1.        ,  0.        ],\n",
       "       [ 2.15983858,  0.75447543, -1.1014699 , ...,  0.        ,\n",
       "         1.        ,  0.        ],\n",
       "       [-0.43953193, -1.32542421,  0.85423587, ...,  0.        ,\n",
       "         0.        ,  0.        ],\n",
       "       ...,\n",
       "       [-0.260265  ,  0.75447543,  0.85423587, ...,  0.        ,\n",
       "         1.        ,  0.        ],\n",
       "       [-1.33586659,  0.75447543, -0.12361702, ...,  0.        ,\n",
       "         1.        ,  0.        ],\n",
       "       [-1.24623313, -1.32542421, -1.1014699 , ...,  0.        ,\n",
       "         1.        ,  0.        ]])"
      ]
     },
     "execution_count": 117,
     "metadata": {},
     "output_type": "execute_result"
    }
   ],
   "source": [
    "X.toarray()"
   ]
  },
  {
   "cell_type": "code",
   "execution_count": 100,
   "id": "dc569250-3b5c-47ac-aacd-b55687d4b43f",
   "metadata": {},
   "outputs": [],
   "source": [
    "# res = 0\n",
    "# # for kernel in ['linear', 'poly', 'rbf', 'sigmoid']:\n",
    "# for C in np.arange(1, 11, 3):\n",
    "#     clf = SVC(C=C, kernel='linear')\n",
    "#     scores = cross_val_score(clf, X, y, cv=4, scoring='roc_auc')\n",
    "#     if scores.mean() > res:\n",
    "#         res = scores.mean()\n",
    "\n",
    "#         print(C)\n",
    "#         print(scores, scores.mean())\n",
    "#         print()"
   ]
  },
  {
   "cell_type": "code",
   "execution_count": 99,
   "id": "2971f7e7-0aa2-4bd9-9015-1502a2c6e254",
   "metadata": {},
   "outputs": [
    {
     "name": "stdout",
     "output_type": "stream",
     "text": [
      "poly\n",
      "[0.97225304 0.97134188 0.97012151 0.97001571] 0.9709330334619174\n",
      "\n",
      "rbf\n",
      "[0.98852201 0.98477726 0.98575801 0.98743134] 0.9866221525263692\n",
      "\n"
     ]
    }
   ],
   "source": [
    "res = 0\n",
    "for kernel in ['poly', 'rbf', 'sigmoid']:\n",
    "    clf = SVC(C=9, kernel=kernel)\n",
    "    scores = cross_val_score(clf, X, y, cv=4, scoring='roc_auc')\n",
    "    if scores.mean() > res:\n",
    "        res = scores.mean()\n",
    "\n",
    "        print(kernel)\n",
    "        print(scores, scores.mean())\n",
    "        print()"
   ]
  },
  {
   "cell_type": "code",
   "execution_count": 36,
   "id": "5c360434-f03f-4e02-89dc-71ce0445d6c2",
   "metadata": {},
   "outputs": [],
   "source": [
    "import optuna"
   ]
  },
  {
   "cell_type": "code",
   "execution_count": 102,
   "id": "2db08868-b90d-473c-9cf1-58c114631e54",
   "metadata": {},
   "outputs": [],
   "source": [
    "# def objective(trial):\n",
    "      \n",
    "#         solver = trial.suggest_categorical(\"solver\", [\"liblinear\", \"lbfgs\"])\n",
    "#         C = trial.suggest_float(\"C\", 0.001, 30.0, log=True)\n",
    "\n",
    "#         model = LogisticRegression(solver=solver, C=C, random_state=42, max_iter=1000)\n",
    "\n",
    "#         accuracy = cross_val_score(model, X, y, scoring='roc_auc', cv=4, n_jobs=-1).mean()\n",
    "\n",
    "#         return accuracy \n",
    "\n",
    "# study = optuna.create_study(direction=\"maximize\") \n",
    "# study.optimize(objective, n_trials=100) \n",
    "\n",
    "# print(f\"Best trial: {study.best_trial.value}\")\n",
    "# print(f\"Best parameters: {study.best_trial.params}\")"
   ]
  },
  {
   "cell_type": "code",
   "execution_count": 103,
   "id": "05ece1b7-a259-43cd-ac6d-50893306eac2",
   "metadata": {},
   "outputs": [
    {
     "name": "stderr",
     "output_type": "stream",
     "text": [
      "/opt/anaconda3/lib/python3.12/site-packages/sklearn/preprocessing/_encoders.py:242: UserWarning: Found unknown categories in columns [0] during transform. These unknown categories will be encoded as all zeros\n",
      "  warnings.warn(\n"
     ]
    }
   ],
   "source": [
    "x_test = test.drop('TARGET', axis=1)\n",
    "y_test = test['TARGET']\n",
    "\n",
    "x_test = preprocessor.transform(x_test)"
   ]
  },
  {
   "cell_type": "code",
   "execution_count": 104,
   "id": "6a14aac4-3c58-413a-9a91-61c18481ca88",
   "metadata": {},
   "outputs": [
    {
     "name": "stdout",
     "output_type": "stream",
     "text": [
      "0.6102722414575198\n"
     ]
    },
    {
     "name": "stderr",
     "output_type": "stream",
     "text": [
      "/opt/anaconda3/lib/python3.12/site-packages/sklearn/linear_model/_logistic.py:469: ConvergenceWarning: lbfgs failed to converge (status=1):\n",
      "STOP: TOTAL NO. of ITERATIONS REACHED LIMIT.\n",
      "\n",
      "Increase the number of iterations (max_iter) or scale the data as shown in:\n",
      "    https://scikit-learn.org/stable/modules/preprocessing.html\n",
      "Please also refer to the documentation for alternative solver options:\n",
      "    https://scikit-learn.org/stable/modules/linear_model.html#logistic-regression\n",
      "  n_iter_i = _check_optimize_result(\n"
     ]
    }
   ],
   "source": [
    "lr = LogisticRegression(C=1.1780126533834017,\n",
    "                       solver='lbfgs')\n",
    "\n",
    "lr.fit(X, y)\n",
    "\n",
    "lr_pred = lr.predict(x_test)\n",
    "\n",
    "print(roc_auc_score(y_test, lr_pred))"
   ]
  },
  {
   "cell_type": "code",
   "execution_count": 105,
   "id": "edaadb9e-323c-43f7-8dd5-aced455eedab",
   "metadata": {},
   "outputs": [
    {
     "name": "stdout",
     "output_type": "stream",
     "text": [
      "0.6127167630057804\n"
     ]
    }
   ],
   "source": [
    "print(accuracy_score(y_test, lr_pred))"
   ]
  },
  {
   "cell_type": "code",
   "execution_count": 106,
   "id": "263b414b-aa71-4303-ab18-2f911e9dba42",
   "metadata": {},
   "outputs": [
    {
     "name": "stdout",
     "output_type": "stream",
     "text": [
      "[[2057 1296]\n",
      " [ 178  275]]\n"
     ]
    }
   ],
   "source": [
    "print(confusion_matrix(y_test, lr_pred))"
   ]
  },
  {
   "cell_type": "code",
   "execution_count": 107,
   "id": "a1325240-1592-443a-a2e4-2a0d84441f96",
   "metadata": {},
   "outputs": [
    {
     "name": "stdout",
     "output_type": "stream",
     "text": [
      "0.5322283955128319\n"
     ]
    }
   ],
   "source": [
    "clf = SVC(C=9, kernel='rbf')\n",
    "\n",
    "clf.fit(X, y)\n",
    "\n",
    "clf_pred = clf.predict(x_test)\n",
    "\n",
    "print(roc_auc_score(y_test, clf_pred))"
   ]
  },
  {
   "cell_type": "code",
   "execution_count": 108,
   "id": "0aa62b1d-278d-4a31-938d-6dfd11229bae",
   "metadata": {},
   "outputs": [
    {
     "name": "stdout",
     "output_type": "stream",
     "text": [
      "0.8200210194429848\n"
     ]
    }
   ],
   "source": [
    "print(accuracy_score(y_test, clf_pred))"
   ]
  },
  {
   "cell_type": "code",
   "execution_count": 109,
   "id": "a10f7215-5505-4849-8c4c-61b8f3c3d140",
   "metadata": {},
   "outputs": [
    {
     "name": "stdout",
     "output_type": "stream",
     "text": [
      "[[3051  302]\n",
      " [ 383   70]]\n"
     ]
    }
   ],
   "source": [
    "print(confusion_matrix(y_test, clf_pred))"
   ]
  },
  {
   "cell_type": "code",
   "execution_count": null,
   "id": "dd48bc46-bf6e-4653-8801-6b0dce181a1c",
   "metadata": {},
   "outputs": [],
   "source": []
  },
  {
   "cell_type": "code",
   "execution_count": null,
   "id": "43b49086-6ac2-4057-bb18-db58905a671c",
   "metadata": {},
   "outputs": [],
   "source": []
  },
  {
   "cell_type": "code",
   "execution_count": 46,
   "id": "7e98a233-64ee-466a-8506-5bcbe90952bf",
   "metadata": {},
   "outputs": [],
   "source": [
    "df9 = df7.drop(col_to_drop, axis=1)"
   ]
  },
  {
   "cell_type": "code",
   "execution_count": 47,
   "id": "84b6da02-35a6-463d-9e2e-5c5c28670815",
   "metadata": {},
   "outputs": [],
   "source": [
    "X = df9.drop('TARGET', axis=1)\n",
    "y = df9['TARGET']\n",
    "\n",
    "num_features = X.select_dtypes(include=['int', 'float']).columns\n",
    "cat_features = X.select_dtypes(include=['object', 'category']).columns"
   ]
  },
  {
   "cell_type": "code",
   "execution_count": 48,
   "id": "59de41b1-5f61-49c6-9691-25a9c07e80a1",
   "metadata": {},
   "outputs": [],
   "source": [
    "numerical_transformer= Pipeline(steps=[\n",
    "        ('imputer', SimpleImputer(strategy='median')),\n",
    "        ('scaler', StandardScaler())\n",
    "    ])\n",
    "\n",
    "categorical_transformer= Pipeline(steps=[\n",
    "        ('imputer', SimpleImputer(strategy='most_frequent')),\n",
    "        ('encoder', OneHotEncoder(drop='first', handle_unknown='ignore'))\n",
    "    ])\n",
    "\n",
    "preprocessor = ColumnTransformer(transformers=[\n",
    "    ('numerical', numerical_transformer, num_features),\n",
    "    ('categorical', categorical_transformer, cat_features)\n",
    "])\n",
    "\n",
    "X = preprocessor.fit_transform(X)"
   ]
  },
  {
   "cell_type": "code",
   "execution_count": 49,
   "id": "3d3a933b-4745-4716-91ff-39d3540b18fc",
   "metadata": {},
   "outputs": [
    {
     "name": "stdout",
     "output_type": "stream",
     "text": [
      "0.9900305266524483\n"
     ]
    }
   ],
   "source": [
    "clf_pred = clf.predict(X)\n",
    "\n",
    "print(roc_auc_score(y, clf_pred))"
   ]
  },
  {
   "cell_type": "code",
   "execution_count": 50,
   "id": "c639f6f3-02a6-45a9-8a5e-e934b0783e25",
   "metadata": {},
   "outputs": [
    {
     "name": "stdout",
     "output_type": "stream",
     "text": [
      "0.9828548906260264\n"
     ]
    }
   ],
   "source": [
    "print(accuracy_score(y, clf_pred))"
   ]
  },
  {
   "cell_type": "code",
   "execution_count": 51,
   "id": "8880fd51-ee28-4e63-a5f7-b30d5eb79878",
   "metadata": {},
   "outputs": [
    {
     "name": "stdout",
     "output_type": "stream",
     "text": [
      "[[13151   260]\n",
      " [    1  1811]]\n"
     ]
    }
   ],
   "source": [
    "print(confusion_matrix(y, clf_pred))"
   ]
  },
  {
   "cell_type": "code",
   "execution_count": null,
   "id": "a32a4fae-9b21-49f5-a040-05034a26790e",
   "metadata": {},
   "outputs": [],
   "source": []
  },
  {
   "cell_type": "code",
   "execution_count": null,
   "id": "efc055e2-24f6-451f-96df-b6ed7908c92a",
   "metadata": {},
   "outputs": [],
   "source": []
  },
  {
   "cell_type": "code",
   "execution_count": null,
   "id": "d2743115-a39a-4f80-9a34-3a7d5b7cb0c1",
   "metadata": {},
   "outputs": [],
   "source": []
  },
  {
   "cell_type": "code",
   "execution_count": null,
   "id": "a8b57509-567f-425b-bfa4-83d0d7848fb3",
   "metadata": {},
   "outputs": [],
   "source": []
  },
  {
   "cell_type": "code",
   "execution_count": null,
   "id": "028b7556-e186-418e-9214-aedfed216d5c",
   "metadata": {},
   "outputs": [],
   "source": []
  },
  {
   "cell_type": "code",
   "execution_count": null,
   "id": "ce62e2df-2dda-406b-a7b7-f0141d2f8c9c",
   "metadata": {},
   "outputs": [],
   "source": []
  },
  {
   "cell_type": "code",
   "execution_count": 107,
   "id": "e1ce7312-d79f-4215-92cb-ce5bd40f902b",
   "metadata": {},
   "outputs": [
    {
     "name": "stderr",
     "output_type": "stream",
     "text": [
      "/opt/anaconda3/lib/python3.12/site-packages/sklearn/preprocessing/_encoders.py:242: UserWarning: Found unknown categories in columns [0] during transform. These unknown categories will be encoded as all zeros\n",
      "  warnings.warn(\n",
      "/opt/anaconda3/lib/python3.12/site-packages/sklearn/preprocessing/_encoders.py:242: UserWarning: Found unknown categories in columns [2, 3, 4] during transform. These unknown categories will be encoded as all zeros\n",
      "  warnings.warn(\n",
      "/opt/anaconda3/lib/python3.12/site-packages/sklearn/preprocessing/_encoders.py:242: UserWarning: Found unknown categories in columns [3] during transform. These unknown categories will be encoded as all zeros\n",
      "  warnings.warn(\n"
     ]
    },
    {
     "name": "stdout",
     "output_type": "stream",
     "text": [
      "LogisticRegression\n",
      "[0.67020212 0.64215369 0.64300394 0.67436172 0.67712724]\n",
      "0.6613697402127265\n",
      "\n"
     ]
    },
    {
     "name": "stderr",
     "output_type": "stream",
     "text": [
      "/opt/anaconda3/lib/python3.12/site-packages/sklearn/preprocessing/_encoders.py:242: UserWarning: Found unknown categories in columns [0] during transform. These unknown categories will be encoded as all zeros\n",
      "  warnings.warn(\n",
      "/opt/anaconda3/lib/python3.12/site-packages/sklearn/preprocessing/_encoders.py:242: UserWarning: Found unknown categories in columns [2, 3, 4] during transform. These unknown categories will be encoded as all zeros\n",
      "  warnings.warn(\n",
      "/opt/anaconda3/lib/python3.12/site-packages/sklearn/preprocessing/_encoders.py:242: UserWarning: Found unknown categories in columns [3] during transform. These unknown categories will be encoded as all zeros\n",
      "  warnings.warn(\n"
     ]
    },
    {
     "name": "stdout",
     "output_type": "stream",
     "text": [
      "SVC\n",
      "[0.56606537 0.55881471 0.59387529 0.57455783 0.60119438]\n",
      "0.5789015142427585\n",
      "\n"
     ]
    }
   ],
   "source": [
    "for model in models:\n",
    "    pipe = Pipeline(steps=[\n",
    "        ('preprocessor', preprocessor1),\n",
    "        ('classifier', model)\n",
    "    ])\n",
    "\n",
    "    score = cross_val_score(pipe, x, y, scoring='roc_auc')\n",
    "    print(model.__class__.__name__)\n",
    "    print(score)\n",
    "    print(score.mean())\n",
    "    print()"
   ]
  },
  {
   "cell_type": "code",
   "execution_count": null,
   "id": "7d05fa88-6341-461e-86c7-9af29b974cff",
   "metadata": {},
   "outputs": [],
   "source": []
  },
  {
   "cell_type": "code",
   "execution_count": null,
   "id": "36104139-c2b8-46f1-8ab3-beb9fbd0ff3b",
   "metadata": {},
   "outputs": [],
   "source": []
  },
  {
   "cell_type": "code",
   "execution_count": null,
   "id": "0538d8e5-5e4c-4229-a766-8ce045a56e1c",
   "metadata": {},
   "outputs": [],
   "source": []
  },
  {
   "cell_type": "code",
   "execution_count": null,
   "id": "11572a32-d3d4-4d4a-961e-4f5944e28641",
   "metadata": {},
   "outputs": [],
   "source": []
  },
  {
   "cell_type": "code",
   "execution_count": 17,
   "id": "79369fb2-3d24-4648-bdf8-a591b7216b79",
   "metadata": {},
   "outputs": [],
   "source": [
    "# df7.loc[df7['CHILD_TOTAL'] > 2, 'CHILD_TOTAL'] = 3\n",
    "# df7.loc[df7['DEPENDANTS'] > 2, 'DEPENDANTS'] = 3"
   ]
  },
  {
   "cell_type": "code",
   "execution_count": 124,
   "id": "238a96c9-d798-48ec-9e03-2aeae4e21944",
   "metadata": {},
   "outputs": [
    {
     "data": {
      "text/plain": [
       "Index(['EDUCATION', 'MARITAL_STATUS', 'REG_ADDRESS_PROVINCE',\n",
       "       'FACT_ADDRESS_PROVINCE', 'POSTAL_ADDRESS_PROVINCE', 'FAMILY_INCOME',\n",
       "       'GEN_INDUSTRY', 'GEN_TITLE', 'JOB_DIR'],\n",
       "      dtype='object')"
      ]
     },
     "execution_count": 124,
     "metadata": {},
     "output_type": "execute_result"
    }
   ],
   "source": [
    "cat_cols = df7.columns[df7.dtypes == 'object']\n",
    "num_cols = df7.columns[df7.dtypes != 'object']\n",
    "cat_cols"
   ]
  },
  {
   "cell_type": "code",
   "execution_count": 125,
   "id": "855183fd-ea2e-44f8-923f-a89c1b3a4563",
   "metadata": {},
   "outputs": [],
   "source": [
    "def remove_outliers(df):\n",
    "    df = df.copy()\n",
    "    \n",
    "    def quantile(data):\n",
    "        q25 = data.quantile(0.25)\n",
    "        q75 = data.quantile(0.75)\n",
    "        iqr = q75 - q25\n",
    "    \n",
    "        return q25 - iqr*1.5, q75 + iqr*1.5\n",
    "\n",
    "    for col in num_features:\n",
    "        _, high = quantile(df[col])\n",
    "        df.loc[df[col] > high1, col] = high1\n",
    "\n",
    "    return df"
   ]
  },
  {
   "cell_type": "code",
   "execution_count": 218,
   "id": "d98b842c-f2e1-47a2-be9f-95206eb881e7",
   "metadata": {},
   "outputs": [
    {
     "data": {
      "text/plain": [
       "Index(['AGE', 'GENDER', 'CHILD_TOTAL', 'DEPENDANTS', 'SOCSTATUS_WORK_FL',\n",
       "       'FL_PRESENCE_FL', 'OWN_AUTO', 'PERSONAL_INCOME', 'WORK_TIME', 'CREDIT',\n",
       "       'TERM', 'FST_PAYMENT', 'LOAN_COUNT'],\n",
       "      dtype='object')"
      ]
     },
     "execution_count": 218,
     "metadata": {},
     "output_type": "execute_result"
    }
   ],
   "source": [
    "num_features"
   ]
  },
  {
   "cell_type": "code",
   "execution_count": 127,
   "id": "e7ffbcef-721a-4803-8f3c-0a632aee8eeb",
   "metadata": {},
   "outputs": [],
   "source": [
    "_, high1 = quantile(df7['WORK_TIME'])\n",
    "_, high2 = quantile(df7['FST_PAYMENT'])\n",
    "_, high3 = quantile(df7['PERSONAL_INCOME'])\n",
    "_, high4 = quantile(df7['CREDIT'])\n",
    "_, high5 = quantile(df7['TERM'])"
   ]
  },
  {
   "cell_type": "code",
   "execution_count": 128,
   "id": "a92e9d7a-18e4-435a-bcb3-7df131ecc576",
   "metadata": {},
   "outputs": [],
   "source": [
    "df7.loc[df7['WORK_TIME'] > high1, 'WORK_TIME'] = high1\n",
    "df7.loc[df7['FST_PAYMENT'] > high2, 'FST_PAYMENT'] = high2\n",
    "df7.loc[df7['PERSONAL_INCOME'] > high3, 'PERSONAL_INCOME'] = high3\n",
    "df7.loc[df7['CREDIT'] > high4, 'CREDIT'] = high4\n",
    "df7.loc[df7['TERM'] > high5, 'TERM'] = high5"
   ]
  },
  {
   "cell_type": "code",
   "execution_count": 129,
   "id": "13ab1bdf-b0c8-4a2b-bcc3-c3f4b20fc455",
   "metadata": {},
   "outputs": [],
   "source": [
    "df7['FST_PAYMENT'] = pd.qcut(df7['PERSONAL_INCOME'], 5, [1, 2, 3, 4, 5]).astype(int)"
   ]
  },
  {
   "cell_type": "code",
   "execution_count": 130,
   "id": "6a6f1120-13f4-444d-b52a-c14968abab54",
   "metadata": {},
   "outputs": [],
   "source": [
    "df7['PERSONAL_INCOME'] = pd.qcut(df7['PERSONAL_INCOME'], 5, [1, 2, 3, 4, 5]).astype(int)\n",
    "df7['AGE'] = pd.qcut(df7['AGE'], 5, [1, 2, 3, 4, 5]).astype(int)\n",
    "# df7['FST_PAYMENT'] = pd.qcut(df7['PERSONAL_INCOME'], 5, [1, 2, 3, 4, 5]).astype(int)\n",
    "df7['CREDIT'] = pd.qcut(df7['CREDIT'], 5, [1, 2, 3, 4, 5]).astype(int)\n",
    "df7['WORK_TIME'] = pd.qcut(df7['WORK_TIME'], 5, [1, 2, 3, 4, 5]).astype(int)"
   ]
  },
  {
   "cell_type": "code",
   "execution_count": 131,
   "id": "9131e859-ea81-4221-a81a-020fcf1b6311",
   "metadata": {},
   "outputs": [],
   "source": [
    "# for i in cat_cols:\n",
    "#     print(i)\n",
    "#     print(df7[i].value_counts())\n",
    "#     print()"
   ]
  },
  {
   "cell_type": "code",
   "execution_count": 132,
   "id": "5a80328d-830a-454a-8108-08d4eed09b42",
   "metadata": {},
   "outputs": [],
   "source": [
    "col_to_drop = ['REG_ADDRESS_PROVINCE', 'EDUCATION', 'MARITAL_STATUS',\n",
    "               'GEN_TITLE', 'FACT_ADDRESS_PROVINCE', 'OWN_AUTO',\n",
    "               'POSTAL_ADDRESS_PROVINCE', 'GEN_INDUSTRY', 'JOB_DIR']"
   ]
  },
  {
   "cell_type": "code",
   "execution_count": 15,
   "id": "8ff45f1f-5e6e-416f-ab25-7741f9e2c19e",
   "metadata": {},
   "outputs": [],
   "source": [
    "# ed_cols_1 = ['Среднее', 'Неполное среднее', 'Неоконченное высшее', 'Среднее специальное']\n",
    "# ed_cols_2 = ['Высшее', 'Два и более высших образования', 'Ученая степень']\n",
    "\n",
    "# for col in ed_cols_1:\n",
    "#     df7.loc[df7['EDUCATION'] == col, 'EDUCATION'] = 'Среднее'\n",
    "\n",
    "# for col in ed_cols_2:\n",
    "#     df7.loc[df7['EDUCATION'] == col, 'EDUCATION'] = 'Высшее'"
   ]
  },
  {
   "cell_type": "code",
   "execution_count": 1022,
   "id": "b3f8347f-de2f-4315-a7c9-1adab33fb14a",
   "metadata": {},
   "outputs": [],
   "source": [
    "# ed_cols_1 = ['Состою в браке', 'Гражданский брак']\n",
    "# ed_cols_2 = ['Не состоял в браке']\n",
    "# ed_cols_3 = ['Разведен(а)', 'Вдовец/Вдова']\n",
    "\n",
    "# for col in ed_cols_1:\n",
    "#     df7.loc[df7['MARITAL_STATUS'] == col, 'MARITAL_STATUS'] = 'В браке'\n",
    "\n",
    "# for col in ed_cols_2:\n",
    "#     df7.loc[df7['MARITAL_STATUS'] == col, 'MARITAL_STATUS'] = 'Не в браке'\n",
    "\n",
    "# for col in ed_cols_3:\n",
    "#     df7.loc[df7['MARITAL_STATUS'] == col, 'MARITAL_STATUS'] = 'Был в браке'"
   ]
  },
  {
   "cell_type": "code",
   "execution_count": 1023,
   "id": "c94d41ac-8b05-45b3-8728-6389d384d842",
   "metadata": {},
   "outputs": [],
   "source": [
    "# ed_cols_1 = ['Рабочий', 'Работник сферы услуг']\n",
    "# ed_cols_2 = ['Специалист', 'Высококвалифиц. специалист']\n",
    "# ed_cols_3 = ['Руководитель среднего звена', 'Руководитель высшего звена']\n",
    "# ed_cols_4 = ['Партнер', 'Индивидуальный предприниматель']\n",
    "# ed_cols_5 = ['Пенсионер', 'Другое']\n",
    "# ed_cols_6 = ['Служащий', 'Военнослужащий по контракту', 'Руководитель низшего звена']\n",
    "\n",
    "\n",
    "\n",
    "# for col in ed_cols_1:\n",
    "#     df7.loc[df7['GEN_TITLE'] == col, 'GEN_TITLE'] = 'Рабочий'\n",
    "\n",
    "# for col in ed_cols_2:\n",
    "#     df7.loc[df7['GEN_TITLE'] == col, 'GEN_TITLE'] = 'Специалист'\n",
    "\n",
    "# for col in ed_cols_3:\n",
    "#     df7.loc[df7['GEN_TITLE'] == col, 'GEN_TITLE'] = 'Руководитель'\n",
    "\n",
    "# for col in ed_cols_4:\n",
    "#     df7.loc[df7['GEN_TITLE'] == col, 'GEN_TITLE'] = 'ИП'\n",
    "\n",
    "# for col in ed_cols_5:\n",
    "#     df7.loc[df7['GEN_TITLE'] == col, 'GEN_TITLE'] = 'Другое'\n",
    "\n",
    "# for col in ed_cols_6:\n",
    "#     df7.loc[df7['GEN_TITLE'] == col, 'GEN_TITLE'] = 'Служащий'"
   ]
  },
  {
   "cell_type": "code",
   "execution_count": 197,
   "id": "0a6c0b17-9ac6-4a68-a758-a9d37a919895",
   "metadata": {},
   "outputs": [],
   "source": [
    "df8 = df7.drop(col_to_drop, axis=1)"
   ]
  },
  {
   "cell_type": "code",
   "execution_count": 198,
   "id": "a67ba580-6f60-4cc1-927f-81145300776c",
   "metadata": {},
   "outputs": [
    {
     "data": {
      "text/html": [
       "<div>\n",
       "<style scoped>\n",
       "    .dataframe tbody tr th:only-of-type {\n",
       "        vertical-align: middle;\n",
       "    }\n",
       "\n",
       "    .dataframe tbody tr th {\n",
       "        vertical-align: top;\n",
       "    }\n",
       "\n",
       "    .dataframe thead th {\n",
       "        text-align: right;\n",
       "    }\n",
       "</style>\n",
       "<table border=\"1\" class=\"dataframe\">\n",
       "  <thead>\n",
       "    <tr style=\"text-align: right;\">\n",
       "      <th></th>\n",
       "      <th>AGE</th>\n",
       "      <th>GENDER</th>\n",
       "      <th>CHILD_TOTAL</th>\n",
       "      <th>DEPENDANTS</th>\n",
       "      <th>SOCSTATUS_WORK_FL</th>\n",
       "      <th>SOCSTATUS_PENS_FL</th>\n",
       "      <th>FL_PRESENCE_FL</th>\n",
       "      <th>FAMILY_INCOME</th>\n",
       "      <th>PERSONAL_INCOME</th>\n",
       "      <th>ID_CLIENT</th>\n",
       "      <th>WORK_TIME</th>\n",
       "      <th>CREDIT</th>\n",
       "      <th>TERM</th>\n",
       "      <th>FST_PAYMENT</th>\n",
       "      <th>LOAN_COUNT</th>\n",
       "      <th>CLOSED_FL</th>\n",
       "      <th>AGREEMENT_RK</th>\n",
       "      <th>TARGET</th>\n",
       "    </tr>\n",
       "  </thead>\n",
       "  <tbody>\n",
       "    <tr>\n",
       "      <th>0</th>\n",
       "      <td>3</td>\n",
       "      <td>1</td>\n",
       "      <td>1</td>\n",
       "      <td>0</td>\n",
       "      <td>1</td>\n",
       "      <td>0</td>\n",
       "      <td>1</td>\n",
       "      <td>от 20000 до 50000 руб.</td>\n",
       "      <td>5</td>\n",
       "      <td>106805103</td>\n",
       "      <td>1</td>\n",
       "      <td>1</td>\n",
       "      <td>6</td>\n",
       "      <td>5</td>\n",
       "      <td>1</td>\n",
       "      <td>0</td>\n",
       "      <td>60099204</td>\n",
       "      <td>1</td>\n",
       "    </tr>\n",
       "    <tr>\n",
       "      <th>1</th>\n",
       "      <td>1</td>\n",
       "      <td>1</td>\n",
       "      <td>1</td>\n",
       "      <td>1</td>\n",
       "      <td>1</td>\n",
       "      <td>0</td>\n",
       "      <td>0</td>\n",
       "      <td>от 10000 до 20000 руб.</td>\n",
       "      <td>2</td>\n",
       "      <td>106809308</td>\n",
       "      <td>1</td>\n",
       "      <td>4</td>\n",
       "      <td>12</td>\n",
       "      <td>2</td>\n",
       "      <td>1</td>\n",
       "      <td>0</td>\n",
       "      <td>62244665</td>\n",
       "      <td>0</td>\n",
       "    </tr>\n",
       "    <tr>\n",
       "      <th>2</th>\n",
       "      <td>5</td>\n",
       "      <td>0</td>\n",
       "      <td>2</td>\n",
       "      <td>0</td>\n",
       "      <td>1</td>\n",
       "      <td>1</td>\n",
       "      <td>0</td>\n",
       "      <td>от 20000 до 50000 руб.</td>\n",
       "      <td>5</td>\n",
       "      <td>106805867</td>\n",
       "      <td>5</td>\n",
       "      <td>4</td>\n",
       "      <td>3</td>\n",
       "      <td>5</td>\n",
       "      <td>1</td>\n",
       "      <td>1</td>\n",
       "      <td>61050759</td>\n",
       "      <td>0</td>\n",
       "    </tr>\n",
       "    <tr>\n",
       "      <th>3</th>\n",
       "      <td>5</td>\n",
       "      <td>1</td>\n",
       "      <td>0</td>\n",
       "      <td>0</td>\n",
       "      <td>1</td>\n",
       "      <td>0</td>\n",
       "      <td>1</td>\n",
       "      <td>от 20000 до 50000 руб.</td>\n",
       "      <td>5</td>\n",
       "      <td>106808779</td>\n",
       "      <td>1</td>\n",
       "      <td>3</td>\n",
       "      <td>6</td>\n",
       "      <td>5</td>\n",
       "      <td>1</td>\n",
       "      <td>0</td>\n",
       "      <td>62079659</td>\n",
       "      <td>0</td>\n",
       "    </tr>\n",
       "    <tr>\n",
       "      <th>4</th>\n",
       "      <td>1</td>\n",
       "      <td>0</td>\n",
       "      <td>1</td>\n",
       "      <td>1</td>\n",
       "      <td>1</td>\n",
       "      <td>0</td>\n",
       "      <td>1</td>\n",
       "      <td>от 10000 до 20000 руб.</td>\n",
       "      <td>4</td>\n",
       "      <td>106814289</td>\n",
       "      <td>1</td>\n",
       "      <td>3</td>\n",
       "      <td>6</td>\n",
       "      <td>4</td>\n",
       "      <td>2</td>\n",
       "      <td>2</td>\n",
       "      <td>66583553</td>\n",
       "      <td>0</td>\n",
       "    </tr>\n",
       "  </tbody>\n",
       "</table>\n",
       "</div>"
      ],
      "text/plain": [
       "   AGE  GENDER  CHILD_TOTAL  DEPENDANTS  SOCSTATUS_WORK_FL  SOCSTATUS_PENS_FL  \\\n",
       "0    3       1            1           0                  1                  0   \n",
       "1    1       1            1           1                  1                  0   \n",
       "2    5       0            2           0                  1                  1   \n",
       "3    5       1            0           0                  1                  0   \n",
       "4    1       0            1           1                  1                  0   \n",
       "\n",
       "   FL_PRESENCE_FL           FAMILY_INCOME  PERSONAL_INCOME  ID_CLIENT  \\\n",
       "0               1  от 20000 до 50000 руб.                5  106805103   \n",
       "1               0  от 10000 до 20000 руб.                2  106809308   \n",
       "2               0  от 20000 до 50000 руб.                5  106805867   \n",
       "3               1  от 20000 до 50000 руб.                5  106808779   \n",
       "4               1  от 10000 до 20000 руб.                4  106814289   \n",
       "\n",
       "   WORK_TIME  CREDIT  TERM  FST_PAYMENT  LOAN_COUNT  CLOSED_FL  AGREEMENT_RK  \\\n",
       "0          1       1     6            5           1          0      60099204   \n",
       "1          1       4    12            2           1          0      62244665   \n",
       "2          5       4     3            5           1          1      61050759   \n",
       "3          1       3     6            5           1          0      62079659   \n",
       "4          1       3     6            4           2          2      66583553   \n",
       "\n",
       "   TARGET  \n",
       "0       1  \n",
       "1       0  \n",
       "2       0  \n",
       "3       0  \n",
       "4       0  "
      ]
     },
     "execution_count": 198,
     "metadata": {},
     "output_type": "execute_result"
    }
   ],
   "source": [
    "df8.head()"
   ]
  },
  {
   "cell_type": "code",
   "execution_count": 199,
   "id": "e012f363-4c1c-4b51-abcd-91660ccdae84",
   "metadata": {},
   "outputs": [],
   "source": [
    "df8 = pd.get_dummies(df8, drop_first=True)"
   ]
  },
  {
   "cell_type": "code",
   "execution_count": null,
   "id": "63a75521-147d-4c91-b9ce-f165b844e19a",
   "metadata": {},
   "outputs": [],
   "source": []
  },
  {
   "cell_type": "code",
   "execution_count": 201,
   "id": "abdeb3d8-b193-4bc4-a627-4bc46bafc889",
   "metadata": {},
   "outputs": [],
   "source": [
    "import pandas as pd\n",
    "from sklearn.linear_model import LogisticRegression\n",
    "from sklearn.svm import SVC\n",
    "\n",
    "from sklearn.metrics import accuracy_score, mean_absolute_error, mean_squared_error, confusion_matrix, classification_report\n",
    "from sklearn.metrics import f1_score, precision_score, recall_score, roc_auc_score\n",
    "from sklearn.model_selection import train_test_split, cross_val_score\n",
    "\n",
    "from sklearn.preprocessing import OneHotEncoder, StandardScaler, MultiLabelBinarizer, MinMaxScaler\n",
    "from sklearn.pipeline import Pipeline\n",
    "\n",
    "from sklearn.model_selection import GridSearchCV\n",
    "\n",
    "from sklearn.utils import resample"
   ]
  },
  {
   "cell_type": "code",
   "execution_count": 188,
   "id": "3ccb94f5-1775-4598-9092-cce32d680109",
   "metadata": {},
   "outputs": [],
   "source": [
    "# df7 = df6.drop('AGREEMENT_RK', axis=1)"
   ]
  },
  {
   "cell_type": "code",
   "execution_count": 189,
   "id": "9711f69e-b1ae-4805-a9d1-ba36700334b1",
   "metadata": {},
   "outputs": [],
   "source": [
    "# df8.to_csv('data/client_dataset_prep.csv', index=False)"
   ]
  },
  {
   "cell_type": "code",
   "execution_count": 190,
   "id": "df75e581-84e7-4063-9bdc-0a918c8915b5",
   "metadata": {},
   "outputs": [],
   "source": [
    "# cat_cols = df7.columns[df7.dtypes == 'object']\n",
    "# num_cols = df7.columns[df7.dtypes != 'object']"
   ]
  },
  {
   "cell_type": "code",
   "execution_count": 191,
   "id": "18570054-faa1-46bc-9ef0-96471e81fe11",
   "metadata": {},
   "outputs": [],
   "source": [
    "# pipe = Pipeline([\n",
    "#     ('scaler', StandardScaler()),\n",
    "#     ('model', LogisticRegression())\n",
    "# ])"
   ]
  },
  {
   "cell_type": "code",
   "execution_count": 192,
   "id": "84fc97b2-56bf-4ef2-9110-72c9d765ae31",
   "metadata": {},
   "outputs": [],
   "source": [
    "# df8 = pd.read_csv('data/client_dataset_prep.csv')"
   ]
  },
  {
   "cell_type": "code",
   "execution_count": 195,
   "id": "b4bae792-ffe2-4f23-b8f6-bd8247112b0b",
   "metadata": {},
   "outputs": [],
   "source": [
    "df8 = pd.merge(left=df8, right=df_target, on='ID_CLIENT', how='inner')"
   ]
  },
  {
   "cell_type": "code",
   "execution_count": 202,
   "id": "4f111f02-84d8-4447-8aed-af28a85fe612",
   "metadata": {},
   "outputs": [],
   "source": [
    "X = df8.drop(['AGREEMENT_RK', 'ID_CLIENT', 'TARGET'], axis=1)\n",
    "y = df8['TARGET']\n",
    "\n",
    "x_train, x_test, y_train, y_test = train_test_split(X, y, test_size=0.25, random_state=42, stratify=y)\n",
    "\n",
    "scaler = StandardScaler()\n",
    "\n",
    "x_train = scaler.fit_transform(x_train)\n",
    "x_test = scaler.transform(x_test)"
   ]
  },
  {
   "cell_type": "code",
   "execution_count": 203,
   "id": "7ebb6959-a01a-4148-82f6-fc3f35323d0f",
   "metadata": {},
   "outputs": [
    {
     "data": {
      "text/plain": [
       "0    88.096959\n",
       "1    11.903041\n",
       "Name: TARGET, dtype: float64"
      ]
     },
     "execution_count": 203,
     "metadata": {},
     "output_type": "execute_result"
    }
   ],
   "source": [
    "(y.value_counts() / len(y)) * 100"
   ]
  },
  {
   "cell_type": "code",
   "execution_count": 204,
   "id": "4d96770b-4dd1-4467-bbe1-95ae089dcca0",
   "metadata": {},
   "outputs": [],
   "source": [
    "df_min = df8[df8['TARGET'] == 1]\n",
    "df_maj = df8[df8['TARGET'] == 0]\n",
    "\n",
    "df_upsample = resample(df_min, replace=True, n_samples=len(df_maj), random_state=42)"
   ]
  },
  {
   "cell_type": "code",
   "execution_count": 205,
   "id": "bdef899d-c6bd-485e-b25a-d8bb6993f97d",
   "metadata": {},
   "outputs": [
    {
     "data": {
      "text/plain": [
       "(13411, 21)"
      ]
     },
     "execution_count": 205,
     "metadata": {},
     "output_type": "execute_result"
    }
   ],
   "source": [
    "df_maj.shape"
   ]
  },
  {
   "cell_type": "code",
   "execution_count": 206,
   "id": "2185a948-cfbc-45a2-aa58-2cd57944699d",
   "metadata": {},
   "outputs": [
    {
     "data": {
      "text/plain": [
       "(13411, 21)"
      ]
     },
     "execution_count": 206,
     "metadata": {},
     "output_type": "execute_result"
    }
   ],
   "source": [
    "df_upsample.shape"
   ]
  },
  {
   "cell_type": "code",
   "execution_count": 207,
   "id": "56d60ea8-893e-4b21-9157-4d6bc0c84602",
   "metadata": {},
   "outputs": [],
   "source": [
    "df_1 = pd.concat([df_maj, df_upsample], ignore_index=True).sample(frac=1.)"
   ]
  },
  {
   "cell_type": "code",
   "execution_count": 208,
   "id": "e99fd886-79fd-4836-8228-ee7c034b9a11",
   "metadata": {},
   "outputs": [
    {
     "data": {
      "text/plain": [
       "(26822, 21)"
      ]
     },
     "execution_count": 208,
     "metadata": {},
     "output_type": "execute_result"
    }
   ],
   "source": [
    "df_1.shape"
   ]
  },
  {
   "cell_type": "code",
   "execution_count": 209,
   "id": "b6d877f5-90ff-4d96-8be9-a01c322dae24",
   "metadata": {},
   "outputs": [],
   "source": [
    "df_1 = pd.concat([df_maj, df_upsample], ignore_index=True).sample(frac=1.)\n",
    "X = df_1.drop(['AGREEMENT_RK', 'ID_CLIENT', 'TARGET'], axis=1)\n",
    "y = df_1['TARGET']\n",
    "\n",
    "x_train, x_test, y_train, y_test = train_test_split(X, y, test_size=0.25, random_state=42, stratify=y)\n",
    "\n",
    "scaler = StandardScaler()\n",
    "\n",
    "x_train = scaler.fit_transform(x_train)\n",
    "x_test = scaler.transform(x_test)"
   ]
  },
  {
   "cell_type": "code",
   "execution_count": 210,
   "id": "6183cb7d-0b91-41ea-9e30-f03579c95581",
   "metadata": {},
   "outputs": [
    {
     "data": {
      "text/plain": [
       "0.6182523113629586"
      ]
     },
     "execution_count": 210,
     "metadata": {},
     "output_type": "execute_result"
    }
   ],
   "source": [
    "# lr = LogisticRegression(class_weight='balanced')\n",
    "lr = LogisticRegression(C=24)\n",
    "\n",
    "lr.fit(x_train, y_train)\n",
    "\n",
    "lr_pred = lr.predict(x_test)\n",
    "\n",
    "roc_auc_score(y_test, lr_pred)"
   ]
  },
  {
   "cell_type": "code",
   "execution_count": 211,
   "id": "af33fd80-21d3-4f80-8f75-43ce0ac7b40e",
   "metadata": {},
   "outputs": [
    {
     "data": {
      "text/plain": [
       "array([[1934, 1419],\n",
       "       [1141, 2212]])"
      ]
     },
     "execution_count": 211,
     "metadata": {},
     "output_type": "execute_result"
    }
   ],
   "source": [
    "confusion_matrix(y_test, lr_pred)"
   ]
  },
  {
   "cell_type": "code",
   "execution_count": 212,
   "id": "7a197e63-caf7-4ff9-984b-6abb55083e74",
   "metadata": {},
   "outputs": [
    {
     "data": {
      "text/plain": [
       "0.6182523113629586"
      ]
     },
     "execution_count": 212,
     "metadata": {},
     "output_type": "execute_result"
    }
   ],
   "source": [
    "accuracy_score(y_test, lr_pred)"
   ]
  },
  {
   "cell_type": "code",
   "execution_count": 213,
   "id": "0ef22a81-b2ce-4cce-86ff-616500d6657c",
   "metadata": {},
   "outputs": [
    {
     "data": {
      "text/plain": [
       "array([[-0.16474035,  0.0365808 ,  0.14210083, -0.01346702,  0.01430761,\n",
       "        -0.110841  , -0.03017003,  0.18342887, -0.26702123, -0.15223385,\n",
       "         0.23015912,  0.18342887,  0.17094489, -0.2837405 , -0.18958916,\n",
       "        -0.25224468, -0.10530119, -0.01085388]])"
      ]
     },
     "execution_count": 213,
     "metadata": {},
     "output_type": "execute_result"
    }
   ],
   "source": [
    "lr.coef_"
   ]
  },
  {
   "cell_type": "code",
   "execution_count": null,
   "id": "680f2d91-533c-41d6-9c71-cb83e23e6534",
   "metadata": {},
   "outputs": [],
   "source": []
  },
  {
   "cell_type": "code",
   "execution_count": 168,
   "id": "93f425f9-c069-4e93-88a8-f94e5ebb28e7",
   "metadata": {},
   "outputs": [],
   "source": [
    "from sklearn.calibration import CalibratedClassifierCV"
   ]
  },
  {
   "cell_type": "code",
   "execution_count": null,
   "id": "6bf1dddf-d303-4479-b5bc-e10fed7f3875",
   "metadata": {},
   "outputs": [],
   "source": []
  },
  {
   "cell_type": "code",
   "execution_count": 169,
   "id": "5c2da1c8-3c2f-4a94-98a2-8213d8b2fca6",
   "metadata": {},
   "outputs": [
    {
     "data": {
      "text/html": [
       "<style>#sk-container-id-1 {\n",
       "  /* Definition of color scheme common for light and dark mode */\n",
       "  --sklearn-color-text: black;\n",
       "  --sklearn-color-line: gray;\n",
       "  /* Definition of color scheme for unfitted estimators */\n",
       "  --sklearn-color-unfitted-level-0: #fff5e6;\n",
       "  --sklearn-color-unfitted-level-1: #f6e4d2;\n",
       "  --sklearn-color-unfitted-level-2: #ffe0b3;\n",
       "  --sklearn-color-unfitted-level-3: chocolate;\n",
       "  /* Definition of color scheme for fitted estimators */\n",
       "  --sklearn-color-fitted-level-0: #f0f8ff;\n",
       "  --sklearn-color-fitted-level-1: #d4ebff;\n",
       "  --sklearn-color-fitted-level-2: #b3dbfd;\n",
       "  --sklearn-color-fitted-level-3: cornflowerblue;\n",
       "\n",
       "  /* Specific color for light theme */\n",
       "  --sklearn-color-text-on-default-background: var(--sg-text-color, var(--theme-code-foreground, var(--jp-content-font-color1, black)));\n",
       "  --sklearn-color-background: var(--sg-background-color, var(--theme-background, var(--jp-layout-color0, white)));\n",
       "  --sklearn-color-border-box: var(--sg-text-color, var(--theme-code-foreground, var(--jp-content-font-color1, black)));\n",
       "  --sklearn-color-icon: #696969;\n",
       "\n",
       "  @media (prefers-color-scheme: dark) {\n",
       "    /* Redefinition of color scheme for dark theme */\n",
       "    --sklearn-color-text-on-default-background: var(--sg-text-color, var(--theme-code-foreground, var(--jp-content-font-color1, white)));\n",
       "    --sklearn-color-background: var(--sg-background-color, var(--theme-background, var(--jp-layout-color0, #111)));\n",
       "    --sklearn-color-border-box: var(--sg-text-color, var(--theme-code-foreground, var(--jp-content-font-color1, white)));\n",
       "    --sklearn-color-icon: #878787;\n",
       "  }\n",
       "}\n",
       "\n",
       "#sk-container-id-1 {\n",
       "  color: var(--sklearn-color-text);\n",
       "}\n",
       "\n",
       "#sk-container-id-1 pre {\n",
       "  padding: 0;\n",
       "}\n",
       "\n",
       "#sk-container-id-1 input.sk-hidden--visually {\n",
       "  border: 0;\n",
       "  clip: rect(1px 1px 1px 1px);\n",
       "  clip: rect(1px, 1px, 1px, 1px);\n",
       "  height: 1px;\n",
       "  margin: -1px;\n",
       "  overflow: hidden;\n",
       "  padding: 0;\n",
       "  position: absolute;\n",
       "  width: 1px;\n",
       "}\n",
       "\n",
       "#sk-container-id-1 div.sk-dashed-wrapped {\n",
       "  border: 1px dashed var(--sklearn-color-line);\n",
       "  margin: 0 0.4em 0.5em 0.4em;\n",
       "  box-sizing: border-box;\n",
       "  padding-bottom: 0.4em;\n",
       "  background-color: var(--sklearn-color-background);\n",
       "}\n",
       "\n",
       "#sk-container-id-1 div.sk-container {\n",
       "  /* jupyter's `normalize.less` sets `[hidden] { display: none; }`\n",
       "     but bootstrap.min.css set `[hidden] { display: none !important; }`\n",
       "     so we also need the `!important` here to be able to override the\n",
       "     default hidden behavior on the sphinx rendered scikit-learn.org.\n",
       "     See: https://github.com/scikit-learn/scikit-learn/issues/21755 */\n",
       "  display: inline-block !important;\n",
       "  position: relative;\n",
       "}\n",
       "\n",
       "#sk-container-id-1 div.sk-text-repr-fallback {\n",
       "  display: none;\n",
       "}\n",
       "\n",
       "div.sk-parallel-item,\n",
       "div.sk-serial,\n",
       "div.sk-item {\n",
       "  /* draw centered vertical line to link estimators */\n",
       "  background-image: linear-gradient(var(--sklearn-color-text-on-default-background), var(--sklearn-color-text-on-default-background));\n",
       "  background-size: 2px 100%;\n",
       "  background-repeat: no-repeat;\n",
       "  background-position: center center;\n",
       "}\n",
       "\n",
       "/* Parallel-specific style estimator block */\n",
       "\n",
       "#sk-container-id-1 div.sk-parallel-item::after {\n",
       "  content: \"\";\n",
       "  width: 100%;\n",
       "  border-bottom: 2px solid var(--sklearn-color-text-on-default-background);\n",
       "  flex-grow: 1;\n",
       "}\n",
       "\n",
       "#sk-container-id-1 div.sk-parallel {\n",
       "  display: flex;\n",
       "  align-items: stretch;\n",
       "  justify-content: center;\n",
       "  background-color: var(--sklearn-color-background);\n",
       "  position: relative;\n",
       "}\n",
       "\n",
       "#sk-container-id-1 div.sk-parallel-item {\n",
       "  display: flex;\n",
       "  flex-direction: column;\n",
       "}\n",
       "\n",
       "#sk-container-id-1 div.sk-parallel-item:first-child::after {\n",
       "  align-self: flex-end;\n",
       "  width: 50%;\n",
       "}\n",
       "\n",
       "#sk-container-id-1 div.sk-parallel-item:last-child::after {\n",
       "  align-self: flex-start;\n",
       "  width: 50%;\n",
       "}\n",
       "\n",
       "#sk-container-id-1 div.sk-parallel-item:only-child::after {\n",
       "  width: 0;\n",
       "}\n",
       "\n",
       "/* Serial-specific style estimator block */\n",
       "\n",
       "#sk-container-id-1 div.sk-serial {\n",
       "  display: flex;\n",
       "  flex-direction: column;\n",
       "  align-items: center;\n",
       "  background-color: var(--sklearn-color-background);\n",
       "  padding-right: 1em;\n",
       "  padding-left: 1em;\n",
       "}\n",
       "\n",
       "\n",
       "/* Toggleable style: style used for estimator/Pipeline/ColumnTransformer box that is\n",
       "clickable and can be expanded/collapsed.\n",
       "- Pipeline and ColumnTransformer use this feature and define the default style\n",
       "- Estimators will overwrite some part of the style using the `sk-estimator` class\n",
       "*/\n",
       "\n",
       "/* Pipeline and ColumnTransformer style (default) */\n",
       "\n",
       "#sk-container-id-1 div.sk-toggleable {\n",
       "  /* Default theme specific background. It is overwritten whether we have a\n",
       "  specific estimator or a Pipeline/ColumnTransformer */\n",
       "  background-color: var(--sklearn-color-background);\n",
       "}\n",
       "\n",
       "/* Toggleable label */\n",
       "#sk-container-id-1 label.sk-toggleable__label {\n",
       "  cursor: pointer;\n",
       "  display: block;\n",
       "  width: 100%;\n",
       "  margin-bottom: 0;\n",
       "  padding: 0.5em;\n",
       "  box-sizing: border-box;\n",
       "  text-align: center;\n",
       "}\n",
       "\n",
       "#sk-container-id-1 label.sk-toggleable__label-arrow:before {\n",
       "  /* Arrow on the left of the label */\n",
       "  content: \"▸\";\n",
       "  float: left;\n",
       "  margin-right: 0.25em;\n",
       "  color: var(--sklearn-color-icon);\n",
       "}\n",
       "\n",
       "#sk-container-id-1 label.sk-toggleable__label-arrow:hover:before {\n",
       "  color: var(--sklearn-color-text);\n",
       "}\n",
       "\n",
       "/* Toggleable content - dropdown */\n",
       "\n",
       "#sk-container-id-1 div.sk-toggleable__content {\n",
       "  max-height: 0;\n",
       "  max-width: 0;\n",
       "  overflow: hidden;\n",
       "  text-align: left;\n",
       "  /* unfitted */\n",
       "  background-color: var(--sklearn-color-unfitted-level-0);\n",
       "}\n",
       "\n",
       "#sk-container-id-1 div.sk-toggleable__content.fitted {\n",
       "  /* fitted */\n",
       "  background-color: var(--sklearn-color-fitted-level-0);\n",
       "}\n",
       "\n",
       "#sk-container-id-1 div.sk-toggleable__content pre {\n",
       "  margin: 0.2em;\n",
       "  border-radius: 0.25em;\n",
       "  color: var(--sklearn-color-text);\n",
       "  /* unfitted */\n",
       "  background-color: var(--sklearn-color-unfitted-level-0);\n",
       "}\n",
       "\n",
       "#sk-container-id-1 div.sk-toggleable__content.fitted pre {\n",
       "  /* unfitted */\n",
       "  background-color: var(--sklearn-color-fitted-level-0);\n",
       "}\n",
       "\n",
       "#sk-container-id-1 input.sk-toggleable__control:checked~div.sk-toggleable__content {\n",
       "  /* Expand drop-down */\n",
       "  max-height: 200px;\n",
       "  max-width: 100%;\n",
       "  overflow: auto;\n",
       "}\n",
       "\n",
       "#sk-container-id-1 input.sk-toggleable__control:checked~label.sk-toggleable__label-arrow:before {\n",
       "  content: \"▾\";\n",
       "}\n",
       "\n",
       "/* Pipeline/ColumnTransformer-specific style */\n",
       "\n",
       "#sk-container-id-1 div.sk-label input.sk-toggleable__control:checked~label.sk-toggleable__label {\n",
       "  color: var(--sklearn-color-text);\n",
       "  background-color: var(--sklearn-color-unfitted-level-2);\n",
       "}\n",
       "\n",
       "#sk-container-id-1 div.sk-label.fitted input.sk-toggleable__control:checked~label.sk-toggleable__label {\n",
       "  background-color: var(--sklearn-color-fitted-level-2);\n",
       "}\n",
       "\n",
       "/* Estimator-specific style */\n",
       "\n",
       "/* Colorize estimator box */\n",
       "#sk-container-id-1 div.sk-estimator input.sk-toggleable__control:checked~label.sk-toggleable__label {\n",
       "  /* unfitted */\n",
       "  background-color: var(--sklearn-color-unfitted-level-2);\n",
       "}\n",
       "\n",
       "#sk-container-id-1 div.sk-estimator.fitted input.sk-toggleable__control:checked~label.sk-toggleable__label {\n",
       "  /* fitted */\n",
       "  background-color: var(--sklearn-color-fitted-level-2);\n",
       "}\n",
       "\n",
       "#sk-container-id-1 div.sk-label label.sk-toggleable__label,\n",
       "#sk-container-id-1 div.sk-label label {\n",
       "  /* The background is the default theme color */\n",
       "  color: var(--sklearn-color-text-on-default-background);\n",
       "}\n",
       "\n",
       "/* On hover, darken the color of the background */\n",
       "#sk-container-id-1 div.sk-label:hover label.sk-toggleable__label {\n",
       "  color: var(--sklearn-color-text);\n",
       "  background-color: var(--sklearn-color-unfitted-level-2);\n",
       "}\n",
       "\n",
       "/* Label box, darken color on hover, fitted */\n",
       "#sk-container-id-1 div.sk-label.fitted:hover label.sk-toggleable__label.fitted {\n",
       "  color: var(--sklearn-color-text);\n",
       "  background-color: var(--sklearn-color-fitted-level-2);\n",
       "}\n",
       "\n",
       "/* Estimator label */\n",
       "\n",
       "#sk-container-id-1 div.sk-label label {\n",
       "  font-family: monospace;\n",
       "  font-weight: bold;\n",
       "  display: inline-block;\n",
       "  line-height: 1.2em;\n",
       "}\n",
       "\n",
       "#sk-container-id-1 div.sk-label-container {\n",
       "  text-align: center;\n",
       "}\n",
       "\n",
       "/* Estimator-specific */\n",
       "#sk-container-id-1 div.sk-estimator {\n",
       "  font-family: monospace;\n",
       "  border: 1px dotted var(--sklearn-color-border-box);\n",
       "  border-radius: 0.25em;\n",
       "  box-sizing: border-box;\n",
       "  margin-bottom: 0.5em;\n",
       "  /* unfitted */\n",
       "  background-color: var(--sklearn-color-unfitted-level-0);\n",
       "}\n",
       "\n",
       "#sk-container-id-1 div.sk-estimator.fitted {\n",
       "  /* fitted */\n",
       "  background-color: var(--sklearn-color-fitted-level-0);\n",
       "}\n",
       "\n",
       "/* on hover */\n",
       "#sk-container-id-1 div.sk-estimator:hover {\n",
       "  /* unfitted */\n",
       "  background-color: var(--sklearn-color-unfitted-level-2);\n",
       "}\n",
       "\n",
       "#sk-container-id-1 div.sk-estimator.fitted:hover {\n",
       "  /* fitted */\n",
       "  background-color: var(--sklearn-color-fitted-level-2);\n",
       "}\n",
       "\n",
       "/* Specification for estimator info (e.g. \"i\" and \"?\") */\n",
       "\n",
       "/* Common style for \"i\" and \"?\" */\n",
       "\n",
       ".sk-estimator-doc-link,\n",
       "a:link.sk-estimator-doc-link,\n",
       "a:visited.sk-estimator-doc-link {\n",
       "  float: right;\n",
       "  font-size: smaller;\n",
       "  line-height: 1em;\n",
       "  font-family: monospace;\n",
       "  background-color: var(--sklearn-color-background);\n",
       "  border-radius: 1em;\n",
       "  height: 1em;\n",
       "  width: 1em;\n",
       "  text-decoration: none !important;\n",
       "  margin-left: 1ex;\n",
       "  /* unfitted */\n",
       "  border: var(--sklearn-color-unfitted-level-1) 1pt solid;\n",
       "  color: var(--sklearn-color-unfitted-level-1);\n",
       "}\n",
       "\n",
       ".sk-estimator-doc-link.fitted,\n",
       "a:link.sk-estimator-doc-link.fitted,\n",
       "a:visited.sk-estimator-doc-link.fitted {\n",
       "  /* fitted */\n",
       "  border: var(--sklearn-color-fitted-level-1) 1pt solid;\n",
       "  color: var(--sklearn-color-fitted-level-1);\n",
       "}\n",
       "\n",
       "/* On hover */\n",
       "div.sk-estimator:hover .sk-estimator-doc-link:hover,\n",
       ".sk-estimator-doc-link:hover,\n",
       "div.sk-label-container:hover .sk-estimator-doc-link:hover,\n",
       ".sk-estimator-doc-link:hover {\n",
       "  /* unfitted */\n",
       "  background-color: var(--sklearn-color-unfitted-level-3);\n",
       "  color: var(--sklearn-color-background);\n",
       "  text-decoration: none;\n",
       "}\n",
       "\n",
       "div.sk-estimator.fitted:hover .sk-estimator-doc-link.fitted:hover,\n",
       ".sk-estimator-doc-link.fitted:hover,\n",
       "div.sk-label-container:hover .sk-estimator-doc-link.fitted:hover,\n",
       ".sk-estimator-doc-link.fitted:hover {\n",
       "  /* fitted */\n",
       "  background-color: var(--sklearn-color-fitted-level-3);\n",
       "  color: var(--sklearn-color-background);\n",
       "  text-decoration: none;\n",
       "}\n",
       "\n",
       "/* Span, style for the box shown on hovering the info icon */\n",
       ".sk-estimator-doc-link span {\n",
       "  display: none;\n",
       "  z-index: 9999;\n",
       "  position: relative;\n",
       "  font-weight: normal;\n",
       "  right: .2ex;\n",
       "  padding: .5ex;\n",
       "  margin: .5ex;\n",
       "  width: min-content;\n",
       "  min-width: 20ex;\n",
       "  max-width: 50ex;\n",
       "  color: var(--sklearn-color-text);\n",
       "  box-shadow: 2pt 2pt 4pt #999;\n",
       "  /* unfitted */\n",
       "  background: var(--sklearn-color-unfitted-level-0);\n",
       "  border: .5pt solid var(--sklearn-color-unfitted-level-3);\n",
       "}\n",
       "\n",
       ".sk-estimator-doc-link.fitted span {\n",
       "  /* fitted */\n",
       "  background: var(--sklearn-color-fitted-level-0);\n",
       "  border: var(--sklearn-color-fitted-level-3);\n",
       "}\n",
       "\n",
       ".sk-estimator-doc-link:hover span {\n",
       "  display: block;\n",
       "}\n",
       "\n",
       "/* \"?\"-specific style due to the `<a>` HTML tag */\n",
       "\n",
       "#sk-container-id-1 a.estimator_doc_link {\n",
       "  float: right;\n",
       "  font-size: 1rem;\n",
       "  line-height: 1em;\n",
       "  font-family: monospace;\n",
       "  background-color: var(--sklearn-color-background);\n",
       "  border-radius: 1rem;\n",
       "  height: 1rem;\n",
       "  width: 1rem;\n",
       "  text-decoration: none;\n",
       "  /* unfitted */\n",
       "  color: var(--sklearn-color-unfitted-level-1);\n",
       "  border: var(--sklearn-color-unfitted-level-1) 1pt solid;\n",
       "}\n",
       "\n",
       "#sk-container-id-1 a.estimator_doc_link.fitted {\n",
       "  /* fitted */\n",
       "  border: var(--sklearn-color-fitted-level-1) 1pt solid;\n",
       "  color: var(--sklearn-color-fitted-level-1);\n",
       "}\n",
       "\n",
       "/* On hover */\n",
       "#sk-container-id-1 a.estimator_doc_link:hover {\n",
       "  /* unfitted */\n",
       "  background-color: var(--sklearn-color-unfitted-level-3);\n",
       "  color: var(--sklearn-color-background);\n",
       "  text-decoration: none;\n",
       "}\n",
       "\n",
       "#sk-container-id-1 a.estimator_doc_link.fitted:hover {\n",
       "  /* fitted */\n",
       "  background-color: var(--sklearn-color-fitted-level-3);\n",
       "}\n",
       "</style><div id=\"sk-container-id-1\" class=\"sk-top-container\"><div class=\"sk-text-repr-fallback\"><pre>CalibratedClassifierCV(cv=3, estimator=LogisticRegression(C=1))</pre><b>In a Jupyter environment, please rerun this cell to show the HTML representation or trust the notebook. <br />On GitHub, the HTML representation is unable to render, please try loading this page with nbviewer.org.</b></div><div class=\"sk-container\" hidden><div class=\"sk-item sk-dashed-wrapped\"><div class=\"sk-label-container\"><div class=\"sk-label fitted sk-toggleable\"><input class=\"sk-toggleable__control sk-hidden--visually\" id=\"sk-estimator-id-1\" type=\"checkbox\" ><label for=\"sk-estimator-id-1\" class=\"sk-toggleable__label fitted sk-toggleable__label-arrow fitted\">&nbsp;&nbsp;CalibratedClassifierCV<a class=\"sk-estimator-doc-link fitted\" rel=\"noreferrer\" target=\"_blank\" href=\"https://scikit-learn.org/1.5/modules/generated/sklearn.calibration.CalibratedClassifierCV.html\">?<span>Documentation for CalibratedClassifierCV</span></a><span class=\"sk-estimator-doc-link fitted\">i<span>Fitted</span></span></label><div class=\"sk-toggleable__content fitted\"><pre>CalibratedClassifierCV(cv=3, estimator=LogisticRegression(C=1))</pre></div> </div></div><div class=\"sk-parallel\"><div class=\"sk-parallel-item\"><div class=\"sk-item\"><div class=\"sk-label-container\"><div class=\"sk-label fitted sk-toggleable\"><input class=\"sk-toggleable__control sk-hidden--visually\" id=\"sk-estimator-id-2\" type=\"checkbox\" ><label for=\"sk-estimator-id-2\" class=\"sk-toggleable__label fitted sk-toggleable__label-arrow fitted\">estimator: LogisticRegression</label><div class=\"sk-toggleable__content fitted\"><pre>LogisticRegression(C=1)</pre></div> </div></div><div class=\"sk-serial\"><div class=\"sk-item\"><div class=\"sk-estimator fitted sk-toggleable\"><input class=\"sk-toggleable__control sk-hidden--visually\" id=\"sk-estimator-id-3\" type=\"checkbox\" ><label for=\"sk-estimator-id-3\" class=\"sk-toggleable__label fitted sk-toggleable__label-arrow fitted\">&nbsp;LogisticRegression<a class=\"sk-estimator-doc-link fitted\" rel=\"noreferrer\" target=\"_blank\" href=\"https://scikit-learn.org/1.5/modules/generated/sklearn.linear_model.LogisticRegression.html\">?<span>Documentation for LogisticRegression</span></a></label><div class=\"sk-toggleable__content fitted\"><pre>LogisticRegression(C=1)</pre></div> </div></div></div></div></div></div></div></div></div>"
      ],
      "text/plain": [
       "CalibratedClassifierCV(cv=3, estimator=LogisticRegression(C=1))"
      ]
     },
     "execution_count": 169,
     "metadata": {},
     "output_type": "execute_result"
    }
   ],
   "source": [
    "lr_calibrated = CalibratedClassifierCV(LogisticRegression(C=1), cv=3)\n",
    "\n",
    "lr_calibrated.fit(x_train, y_train)"
   ]
  },
  {
   "cell_type": "code",
   "execution_count": 170,
   "id": "47804cb8-9953-4cc6-973e-1bc17ebbc4c2",
   "metadata": {},
   "outputs": [
    {
     "data": {
      "text/plain": [
       "array([9.99774012e-01, 9.99762596e-01, 3.88458844e-04, 2.78322237e-04,\n",
       "       4.31956708e-04, 9.99621789e-01, 9.99747401e-01, 9.99749355e-01,\n",
       "       3.11385755e-04, 9.99673128e-01])"
      ]
     },
     "execution_count": 170,
     "metadata": {},
     "output_type": "execute_result"
    }
   ],
   "source": [
    "probs_lr_c = lr_calibrated.predict_proba(x_test)[:,1]\n",
    "\n",
    "probs_lr_c[:10]"
   ]
  },
  {
   "cell_type": "code",
   "execution_count": null,
   "id": "7d207ada-7190-4ae5-8303-68d49ee5dcf8",
   "metadata": {},
   "outputs": [],
   "source": [
    "res = 0\n",
    "for kernel in ['linear', 'poly', 'rbf', 'sigmoid']:\n",
    "    for C in np.arange(0.1, 10, 0.1):\n",
    "        clf = SVC(C=C, kernel=kernel)\n",
    "        scores = cross_val_score(clf, X, y, cv=5, scoring='accuracy')\n",
    "        if scores.mean() > res:\n",
    "            res = scores.mean()\n",
    "\n",
    "            print(kernel, C)\n",
    "            print(scores, scores.mean())\n",
    "            print()"
   ]
  },
  {
   "cell_type": "code",
   "execution_count": null,
   "id": "5183dfe9-75d6-4a7d-a98d-4f1016504305",
   "metadata": {},
   "outputs": [],
   "source": [
    "def objective(trial):\n",
    "      \n",
    "        solver = trial.suggest_categorical(\"solver\", [\"liblinear\", \"lbfgs\"])\n",
    "        C = trial.suggest_float(\"C\", 0.001, 30.0, log=True)\n",
    "\n",
    "        model = LogisticRegression(solver=solver, C=C, random_state=42, max_iter=1000)\n",
    "\n",
    "        accuracy = cross_val_score(model, X, y, scoring='accuracy', cv=5, n_jobs=-1).mean()\n",
    "\n",
    "        return accuracy \n",
    "\n",
    "study = optuna.create_study(direction=\"maximize\") \n",
    "study.optimize(objective, n_trials=100) \n",
    "\n",
    "print(f\"Best trial: {study.best_trial.value}\")\n",
    "print(f\"Best parameters: {study.best_trial.params}\")"
   ]
  },
  {
   "cell_type": "code",
   "execution_count": 171,
   "id": "da9f1f22-8be8-4054-8a92-d9bdeabc4655",
   "metadata": {},
   "outputs": [
    {
     "name": "stdout",
     "output_type": "stream",
     "text": [
      "Fitting 3 folds for each of 49 candidates, totalling 147 fits\n"
     ]
    },
    {
     "name": "stderr",
     "output_type": "stream",
     "text": [
      "/opt/anaconda3/lib/python3.12/site-packages/sklearn/linear_model/_logistic.py:469: ConvergenceWarning: lbfgs failed to converge (status=1):\n",
      "STOP: TOTAL NO. of ITERATIONS REACHED LIMIT.\n",
      "\n",
      "Increase the number of iterations (max_iter) or scale the data as shown in:\n",
      "    https://scikit-learn.org/stable/modules/preprocessing.html\n",
      "Please also refer to the documentation for alternative solver options:\n",
      "    https://scikit-learn.org/stable/modules/linear_model.html#logistic-regression\n",
      "  n_iter_i = _check_optimize_result(\n",
      "/opt/anaconda3/lib/python3.12/site-packages/sklearn/linear_model/_logistic.py:469: ConvergenceWarning: lbfgs failed to converge (status=1):\n",
      "STOP: TOTAL NO. of ITERATIONS REACHED LIMIT.\n",
      "\n",
      "Increase the number of iterations (max_iter) or scale the data as shown in:\n",
      "    https://scikit-learn.org/stable/modules/preprocessing.html\n",
      "Please also refer to the documentation for alternative solver options:\n",
      "    https://scikit-learn.org/stable/modules/linear_model.html#logistic-regression\n",
      "  n_iter_i = _check_optimize_result(\n",
      "/opt/anaconda3/lib/python3.12/site-packages/sklearn/linear_model/_logistic.py:469: ConvergenceWarning: lbfgs failed to converge (status=1):\n",
      "STOP: TOTAL NO. of ITERATIONS REACHED LIMIT.\n",
      "\n",
      "Increase the number of iterations (max_iter) or scale the data as shown in:\n",
      "    https://scikit-learn.org/stable/modules/preprocessing.html\n",
      "Please also refer to the documentation for alternative solver options:\n",
      "    https://scikit-learn.org/stable/modules/linear_model.html#logistic-regression\n",
      "  n_iter_i = _check_optimize_result(\n",
      "/opt/anaconda3/lib/python3.12/site-packages/sklearn/linear_model/_logistic.py:469: ConvergenceWarning: lbfgs failed to converge (status=1):\n",
      "STOP: TOTAL NO. of ITERATIONS REACHED LIMIT.\n",
      "\n",
      "Increase the number of iterations (max_iter) or scale the data as shown in:\n",
      "    https://scikit-learn.org/stable/modules/preprocessing.html\n",
      "Please also refer to the documentation for alternative solver options:\n",
      "    https://scikit-learn.org/stable/modules/linear_model.html#logistic-regression\n",
      "  n_iter_i = _check_optimize_result(\n",
      "/opt/anaconda3/lib/python3.12/site-packages/sklearn/linear_model/_logistic.py:469: ConvergenceWarning: lbfgs failed to converge (status=1):\n",
      "STOP: TOTAL NO. of ITERATIONS REACHED LIMIT.\n",
      "\n",
      "Increase the number of iterations (max_iter) or scale the data as shown in:\n",
      "    https://scikit-learn.org/stable/modules/preprocessing.html\n",
      "Please also refer to the documentation for alternative solver options:\n",
      "    https://scikit-learn.org/stable/modules/linear_model.html#logistic-regression\n",
      "  n_iter_i = _check_optimize_result(\n",
      "/opt/anaconda3/lib/python3.12/site-packages/sklearn/linear_model/_logistic.py:469: ConvergenceWarning: lbfgs failed to converge (status=1):\n",
      "STOP: TOTAL NO. of ITERATIONS REACHED LIMIT.\n",
      "\n",
      "Increase the number of iterations (max_iter) or scale the data as shown in:\n",
      "    https://scikit-learn.org/stable/modules/preprocessing.html\n",
      "Please also refer to the documentation for alternative solver options:\n",
      "    https://scikit-learn.org/stable/modules/linear_model.html#logistic-regression\n",
      "  n_iter_i = _check_optimize_result(\n",
      "/opt/anaconda3/lib/python3.12/site-packages/sklearn/linear_model/_logistic.py:469: ConvergenceWarning: lbfgs failed to converge (status=1):\n",
      "STOP: TOTAL NO. of ITERATIONS REACHED LIMIT.\n",
      "\n",
      "Increase the number of iterations (max_iter) or scale the data as shown in:\n",
      "    https://scikit-learn.org/stable/modules/preprocessing.html\n",
      "Please also refer to the documentation for alternative solver options:\n",
      "    https://scikit-learn.org/stable/modules/linear_model.html#logistic-regression\n",
      "  n_iter_i = _check_optimize_result(\n",
      "/opt/anaconda3/lib/python3.12/site-packages/sklearn/linear_model/_logistic.py:469: ConvergenceWarning: lbfgs failed to converge (status=1):\n",
      "STOP: TOTAL NO. of ITERATIONS REACHED LIMIT.\n",
      "\n",
      "Increase the number of iterations (max_iter) or scale the data as shown in:\n",
      "    https://scikit-learn.org/stable/modules/preprocessing.html\n",
      "Please also refer to the documentation for alternative solver options:\n",
      "    https://scikit-learn.org/stable/modules/linear_model.html#logistic-regression\n",
      "  n_iter_i = _check_optimize_result(\n",
      "/opt/anaconda3/lib/python3.12/site-packages/sklearn/linear_model/_logistic.py:469: ConvergenceWarning: lbfgs failed to converge (status=1):\n",
      "STOP: TOTAL NO. of ITERATIONS REACHED LIMIT.\n",
      "\n",
      "Increase the number of iterations (max_iter) or scale the data as shown in:\n",
      "    https://scikit-learn.org/stable/modules/preprocessing.html\n",
      "Please also refer to the documentation for alternative solver options:\n",
      "    https://scikit-learn.org/stable/modules/linear_model.html#logistic-regression\n",
      "  n_iter_i = _check_optimize_result(\n",
      "/opt/anaconda3/lib/python3.12/site-packages/sklearn/linear_model/_logistic.py:469: ConvergenceWarning: lbfgs failed to converge (status=1):\n",
      "STOP: TOTAL NO. of ITERATIONS REACHED LIMIT.\n",
      "\n",
      "Increase the number of iterations (max_iter) or scale the data as shown in:\n",
      "    https://scikit-learn.org/stable/modules/preprocessing.html\n",
      "Please also refer to the documentation for alternative solver options:\n",
      "    https://scikit-learn.org/stable/modules/linear_model.html#logistic-regression\n",
      "  n_iter_i = _check_optimize_result(\n",
      "/opt/anaconda3/lib/python3.12/site-packages/sklearn/linear_model/_logistic.py:469: ConvergenceWarning: lbfgs failed to converge (status=1):\n",
      "STOP: TOTAL NO. of ITERATIONS REACHED LIMIT.\n",
      "\n",
      "Increase the number of iterations (max_iter) or scale the data as shown in:\n",
      "    https://scikit-learn.org/stable/modules/preprocessing.html\n",
      "Please also refer to the documentation for alternative solver options:\n",
      "    https://scikit-learn.org/stable/modules/linear_model.html#logistic-regression\n",
      "  n_iter_i = _check_optimize_result(\n",
      "/opt/anaconda3/lib/python3.12/site-packages/sklearn/linear_model/_logistic.py:469: ConvergenceWarning: lbfgs failed to converge (status=1):\n",
      "STOP: TOTAL NO. of ITERATIONS REACHED LIMIT.\n",
      "\n",
      "Increase the number of iterations (max_iter) or scale the data as shown in:\n",
      "    https://scikit-learn.org/stable/modules/preprocessing.html\n",
      "Please also refer to the documentation for alternative solver options:\n",
      "    https://scikit-learn.org/stable/modules/linear_model.html#logistic-regression\n",
      "  n_iter_i = _check_optimize_result(\n",
      "/opt/anaconda3/lib/python3.12/site-packages/sklearn/linear_model/_logistic.py:469: ConvergenceWarning: lbfgs failed to converge (status=1):\n",
      "STOP: TOTAL NO. of ITERATIONS REACHED LIMIT.\n",
      "\n",
      "Increase the number of iterations (max_iter) or scale the data as shown in:\n",
      "    https://scikit-learn.org/stable/modules/preprocessing.html\n",
      "Please also refer to the documentation for alternative solver options:\n",
      "    https://scikit-learn.org/stable/modules/linear_model.html#logistic-regression\n",
      "  n_iter_i = _check_optimize_result(\n",
      "/opt/anaconda3/lib/python3.12/site-packages/sklearn/linear_model/_logistic.py:469: ConvergenceWarning: lbfgs failed to converge (status=1):\n",
      "STOP: TOTAL NO. of ITERATIONS REACHED LIMIT.\n",
      "\n",
      "Increase the number of iterations (max_iter) or scale the data as shown in:\n",
      "    https://scikit-learn.org/stable/modules/preprocessing.html\n",
      "Please also refer to the documentation for alternative solver options:\n",
      "    https://scikit-learn.org/stable/modules/linear_model.html#logistic-regression\n",
      "  n_iter_i = _check_optimize_result(\n",
      "/opt/anaconda3/lib/python3.12/site-packages/sklearn/linear_model/_logistic.py:469: ConvergenceWarning: lbfgs failed to converge (status=1):\n",
      "STOP: TOTAL NO. of ITERATIONS REACHED LIMIT.\n",
      "\n",
      "Increase the number of iterations (max_iter) or scale the data as shown in:\n",
      "    https://scikit-learn.org/stable/modules/preprocessing.html\n",
      "Please also refer to the documentation for alternative solver options:\n",
      "    https://scikit-learn.org/stable/modules/linear_model.html#logistic-regression\n",
      "  n_iter_i = _check_optimize_result(\n",
      "/opt/anaconda3/lib/python3.12/site-packages/sklearn/linear_model/_logistic.py:469: ConvergenceWarning: lbfgs failed to converge (status=1):\n",
      "STOP: TOTAL NO. of ITERATIONS REACHED LIMIT.\n",
      "\n",
      "Increase the number of iterations (max_iter) or scale the data as shown in:\n",
      "    https://scikit-learn.org/stable/modules/preprocessing.html\n",
      "Please also refer to the documentation for alternative solver options:\n",
      "    https://scikit-learn.org/stable/modules/linear_model.html#logistic-regression\n",
      "  n_iter_i = _check_optimize_result(\n",
      "/opt/anaconda3/lib/python3.12/site-packages/sklearn/linear_model/_logistic.py:469: ConvergenceWarning: lbfgs failed to converge (status=1):\n",
      "STOP: TOTAL NO. of ITERATIONS REACHED LIMIT.\n",
      "\n",
      "Increase the number of iterations (max_iter) or scale the data as shown in:\n",
      "    https://scikit-learn.org/stable/modules/preprocessing.html\n",
      "Please also refer to the documentation for alternative solver options:\n",
      "    https://scikit-learn.org/stable/modules/linear_model.html#logistic-regression\n",
      "  n_iter_i = _check_optimize_result(\n",
      "/opt/anaconda3/lib/python3.12/site-packages/sklearn/linear_model/_logistic.py:469: ConvergenceWarning: lbfgs failed to converge (status=1):\n",
      "STOP: TOTAL NO. of ITERATIONS REACHED LIMIT.\n",
      "\n",
      "Increase the number of iterations (max_iter) or scale the data as shown in:\n",
      "    https://scikit-learn.org/stable/modules/preprocessing.html\n",
      "Please also refer to the documentation for alternative solver options:\n",
      "    https://scikit-learn.org/stable/modules/linear_model.html#logistic-regression\n",
      "  n_iter_i = _check_optimize_result(\n",
      "/opt/anaconda3/lib/python3.12/site-packages/sklearn/linear_model/_logistic.py:469: ConvergenceWarning: lbfgs failed to converge (status=1):\n",
      "STOP: TOTAL NO. of ITERATIONS REACHED LIMIT.\n",
      "\n",
      "Increase the number of iterations (max_iter) or scale the data as shown in:\n",
      "    https://scikit-learn.org/stable/modules/preprocessing.html\n",
      "Please also refer to the documentation for alternative solver options:\n",
      "    https://scikit-learn.org/stable/modules/linear_model.html#logistic-regression\n",
      "  n_iter_i = _check_optimize_result(\n",
      "/opt/anaconda3/lib/python3.12/site-packages/sklearn/linear_model/_logistic.py:469: ConvergenceWarning: lbfgs failed to converge (status=1):\n",
      "STOP: TOTAL NO. of ITERATIONS REACHED LIMIT.\n",
      "\n",
      "Increase the number of iterations (max_iter) or scale the data as shown in:\n",
      "    https://scikit-learn.org/stable/modules/preprocessing.html\n",
      "Please also refer to the documentation for alternative solver options:\n",
      "    https://scikit-learn.org/stable/modules/linear_model.html#logistic-regression\n",
      "  n_iter_i = _check_optimize_result(\n"
     ]
    },
    {
     "name": "stdout",
     "output_type": "stream",
     "text": [
      "LogisticRegression(C=18) 0.960189660033854\n"
     ]
    }
   ],
   "source": [
    "params = [\n",
    "    { \n",
    "    'C' : np.arange(1, 50),                     \n",
    "    }\n",
    "]\n",
    "\n",
    "lr = LogisticRegression()\n",
    "\n",
    "clf1 = GridSearchCV(estimator = lr, \n",
    "                   param_grid = params, \n",
    "                   scoring = 'roc_auc', \n",
    "                   cv = 3, \n",
    "                   verbose=True,\n",
    "                   n_jobs=-1)\n",
    "\n",
    "clf_fit1 = clf1.fit(X,y)\n",
    "\n",
    "print(clf_fit1.best_estimator_, clf_fit1.best_score_)"
   ]
  },
  {
   "cell_type": "code",
   "execution_count": 172,
   "id": "77ba958c-10ed-4984-9632-a921f163d262",
   "metadata": {},
   "outputs": [
    {
     "name": "stdout",
     "output_type": "stream",
     "text": [
      "0.01\n",
      "1.0\n",
      "1.0\n",
      "\n",
      "0.02\n",
      "1.0\n",
      "1.0\n",
      "\n",
      "0.03\n",
      "1.0\n",
      "1.0\n",
      "\n",
      "0.04\n",
      "1.0\n",
      "1.0\n",
      "\n",
      "0.05\n",
      "1.0\n",
      "1.0\n",
      "\n",
      "0.060000000000000005\n",
      "1.0\n",
      "1.0\n",
      "\n",
      "0.06999999999999999\n",
      "1.0\n",
      "1.0\n",
      "\n",
      "0.08\n",
      "1.0\n",
      "1.0\n",
      "\n",
      "0.09\n",
      "1.0\n",
      "1.0\n",
      "\n",
      "0.09999999999999999\n",
      "1.0\n",
      "1.0\n",
      "\n",
      "0.11\n",
      "1.0\n",
      "1.0\n",
      "\n",
      "0.12\n",
      "1.0\n",
      "1.0\n",
      "\n",
      "0.13\n",
      "1.0\n",
      "1.0\n",
      "\n",
      "0.14\n",
      "1.0\n",
      "1.0\n",
      "\n",
      "0.15000000000000002\n",
      "1.0\n",
      "1.0\n",
      "\n",
      "0.16\n",
      "1.0\n",
      "1.0\n",
      "\n",
      "0.17\n",
      "1.0\n",
      "1.0\n",
      "\n",
      "0.18000000000000002\n",
      "1.0\n",
      "1.0\n",
      "\n",
      "0.19\n",
      "1.0\n",
      "1.0\n",
      "\n",
      "0.2\n",
      "1.0\n",
      "1.0\n",
      "\n",
      "0.21000000000000002\n",
      "1.0\n",
      "1.0\n",
      "\n",
      "0.22\n",
      "1.0\n",
      "1.0\n",
      "\n",
      "0.23\n",
      "1.0\n",
      "1.0\n",
      "\n",
      "0.24000000000000002\n",
      "1.0\n",
      "1.0\n",
      "\n",
      "0.25\n",
      "1.0\n",
      "1.0\n",
      "\n",
      "0.26\n",
      "1.0\n",
      "1.0\n",
      "\n",
      "0.27\n",
      "1.0\n",
      "1.0\n",
      "\n",
      "0.28\n",
      "1.0\n",
      "1.0\n",
      "\n",
      "0.29000000000000004\n",
      "1.0\n",
      "1.0\n",
      "\n",
      "0.3\n",
      "1.0\n",
      "1.0\n",
      "\n",
      "0.31\n",
      "1.0\n",
      "1.0\n",
      "\n",
      "0.32\n",
      "1.0\n",
      "1.0\n",
      "\n",
      "0.33\n",
      "1.0\n",
      "1.0\n",
      "\n",
      "0.34\n",
      "1.0\n",
      "1.0\n",
      "\n",
      "0.35000000000000003\n",
      "1.0\n",
      "1.0\n",
      "\n",
      "0.36000000000000004\n",
      "1.0\n",
      "1.0\n",
      "\n",
      "0.37\n",
      "1.0\n",
      "1.0\n",
      "\n",
      "0.38\n",
      "1.0\n",
      "1.0\n",
      "\n",
      "0.39\n",
      "1.0\n",
      "1.0\n",
      "\n",
      "0.4\n",
      "1.0\n",
      "1.0\n",
      "\n",
      "0.41000000000000003\n",
      "1.0\n",
      "1.0\n",
      "\n",
      "0.42000000000000004\n",
      "1.0\n",
      "1.0\n",
      "\n",
      "0.43\n",
      "1.0\n",
      "1.0\n",
      "\n",
      "0.44\n",
      "1.0\n",
      "1.0\n",
      "\n",
      "0.45\n",
      "1.0\n",
      "1.0\n",
      "\n",
      "0.46\n",
      "1.0\n",
      "1.0\n",
      "\n",
      "0.47000000000000003\n",
      "1.0\n",
      "1.0\n",
      "\n",
      "0.48000000000000004\n",
      "1.0\n",
      "1.0\n",
      "\n",
      "0.49\n",
      "1.0\n",
      "1.0\n",
      "\n",
      "0.5\n",
      "1.0\n",
      "1.0\n",
      "\n",
      "0.51\n",
      "1.0\n",
      "1.0\n",
      "\n",
      "0.52\n",
      "1.0\n",
      "1.0\n",
      "\n",
      "0.53\n",
      "1.0\n",
      "1.0\n",
      "\n",
      "0.54\n",
      "1.0\n",
      "1.0\n",
      "\n",
      "0.55\n",
      "1.0\n",
      "1.0\n",
      "\n",
      "0.56\n",
      "1.0\n",
      "1.0\n",
      "\n",
      "0.5700000000000001\n",
      "1.0\n",
      "1.0\n",
      "\n",
      "0.5800000000000001\n",
      "1.0\n",
      "1.0\n",
      "\n",
      "0.59\n",
      "1.0\n",
      "1.0\n",
      "\n",
      "0.6\n",
      "1.0\n",
      "1.0\n",
      "\n",
      "0.61\n",
      "1.0\n",
      "1.0\n",
      "\n",
      "0.62\n",
      "1.0\n",
      "1.0\n",
      "\n",
      "0.63\n",
      "1.0\n",
      "1.0\n",
      "\n",
      "0.64\n",
      "1.0\n",
      "1.0\n",
      "\n",
      "0.65\n",
      "1.0\n",
      "1.0\n",
      "\n",
      "0.66\n",
      "1.0\n",
      "1.0\n",
      "\n",
      "0.67\n",
      "1.0\n",
      "1.0\n",
      "\n",
      "0.68\n",
      "1.0\n",
      "1.0\n",
      "\n",
      "0.6900000000000001\n",
      "1.0\n",
      "1.0\n",
      "\n",
      "0.7000000000000001\n",
      "1.0\n",
      "1.0\n",
      "\n",
      "0.7100000000000001\n",
      "1.0\n",
      "1.0\n",
      "\n",
      "0.72\n",
      "1.0\n",
      "1.0\n",
      "\n",
      "0.73\n",
      "1.0\n",
      "1.0\n",
      "\n",
      "0.74\n",
      "1.0\n",
      "1.0\n",
      "\n",
      "0.75\n",
      "1.0\n",
      "1.0\n",
      "\n",
      "0.76\n",
      "1.0\n",
      "1.0\n",
      "\n",
      "0.77\n",
      "1.0\n",
      "1.0\n",
      "\n",
      "0.78\n",
      "1.0\n",
      "1.0\n",
      "\n",
      "0.79\n",
      "1.0\n",
      "1.0\n",
      "\n",
      "0.8\n",
      "1.0\n",
      "1.0\n",
      "\n",
      "0.81\n",
      "1.0\n",
      "1.0\n",
      "\n",
      "0.8200000000000001\n",
      "1.0\n",
      "1.0\n",
      "\n",
      "0.8300000000000001\n",
      "1.0\n",
      "1.0\n",
      "\n",
      "0.8400000000000001\n",
      "1.0\n",
      "1.0\n",
      "\n",
      "0.85\n",
      "1.0\n",
      "1.0\n",
      "\n",
      "0.86\n",
      "1.0\n",
      "1.0\n",
      "\n",
      "0.87\n",
      "1.0\n",
      "1.0\n",
      "\n",
      "0.88\n",
      "1.0\n",
      "1.0\n",
      "\n",
      "0.89\n",
      "1.0\n",
      "1.0\n",
      "\n",
      "0.9\n",
      "1.0\n",
      "1.0\n",
      "\n",
      "0.91\n",
      "1.0\n",
      "1.0\n",
      "\n",
      "0.92\n",
      "1.0\n",
      "1.0\n",
      "\n",
      "0.93\n",
      "1.0\n",
      "1.0\n",
      "\n",
      "0.9400000000000001\n",
      "1.0\n",
      "1.0\n",
      "\n",
      "0.9500000000000001\n",
      "1.0\n",
      "1.0\n",
      "\n",
      "0.9600000000000001\n",
      "1.0\n",
      "1.0\n",
      "\n",
      "0.97\n",
      "1.0\n",
      "1.0\n",
      "\n",
      "0.98\n",
      "1.0\n",
      "1.0\n",
      "\n",
      "0.99\n",
      "1.0\n",
      "1.0\n",
      "\n"
     ]
    }
   ],
   "source": [
    "for trh in np.arange(0.01, 1, 0.01):\n",
    "    lr_pred = [1 if i > trh else 0 for i in probs_lr_c]\n",
    "    print(trh)\n",
    "    print(roc_auc_score(y_test, lr_pred))\n",
    "    print(accuracy_score(y_test, lr_pred))\n",
    "    print()"
   ]
  },
  {
   "cell_type": "code",
   "execution_count": 71,
   "id": "e33ea42a-fb69-4a65-8e1e-fc2a358bc689",
   "metadata": {},
   "outputs": [],
   "source": [
    "# lr_pred = [1 if i > 0.12 else 0 for i in probs_lr_c]"
   ]
  },
  {
   "cell_type": "code",
   "execution_count": 72,
   "id": "971077bd-5cb1-4347-b501-76ef8d8279c7",
   "metadata": {},
   "outputs": [],
   "source": [
    "lr_pred = lr_calibrated.predict(x_test)"
   ]
  },
  {
   "cell_type": "code",
   "execution_count": 73,
   "id": "cf921d52-493b-4de6-8850-e8baffa1f5ef",
   "metadata": {},
   "outputs": [
    {
     "data": {
      "text/plain": [
       "0.6113927825827618"
      ]
     },
     "execution_count": 73,
     "metadata": {},
     "output_type": "execute_result"
    }
   ],
   "source": [
    "roc_auc_score(y_test, lr_pred)"
   ]
  },
  {
   "cell_type": "code",
   "execution_count": 59,
   "id": "741e3d9d-10f4-454a-aeeb-c42d46c469cb",
   "metadata": {},
   "outputs": [
    {
     "data": {
      "text/plain": [
       "array([[1931, 1422],\n",
       "       [1181, 2172]])"
      ]
     },
     "execution_count": 59,
     "metadata": {},
     "output_type": "execute_result"
    }
   ],
   "source": [
    "confusion_matrix(y_test, lr_pred)"
   ]
  },
  {
   "cell_type": "code",
   "execution_count": 60,
   "id": "9ef26bbd-7621-4765-9f82-87479db7f6d4",
   "metadata": {},
   "outputs": [
    {
     "data": {
      "text/plain": [
       "0.6118401431553833"
      ]
     },
     "execution_count": 60,
     "metadata": {},
     "output_type": "execute_result"
    }
   ],
   "source": [
    "accuracy_score(y_test, lr_pred)"
   ]
  },
  {
   "cell_type": "code",
   "execution_count": 61,
   "id": "a3c3bb33-af5e-4ac7-a9d8-27b1b04d9ac9",
   "metadata": {},
   "outputs": [
    {
     "data": {
      "text/plain": [
       "0.6157172681181032"
      ]
     },
     "execution_count": 61,
     "metadata": {},
     "output_type": "execute_result"
    }
   ],
   "source": [
    "svc = SVC(kernel='linear')\n",
    "\n",
    "svc.fit(x_train, y_train)\n",
    "\n",
    "svc_pred = svc.predict(x_test)\n",
    "\n",
    "roc_auc_score(y_test, svc_pred)"
   ]
  },
  {
   "cell_type": "code",
   "execution_count": 62,
   "id": "3e8b9514-4fd1-4d0a-b85c-34811c3c9136",
   "metadata": {},
   "outputs": [
    {
     "data": {
      "text/html": [
       "<style>#sk-container-id-2 {\n",
       "  /* Definition of color scheme common for light and dark mode */\n",
       "  --sklearn-color-text: black;\n",
       "  --sklearn-color-line: gray;\n",
       "  /* Definition of color scheme for unfitted estimators */\n",
       "  --sklearn-color-unfitted-level-0: #fff5e6;\n",
       "  --sklearn-color-unfitted-level-1: #f6e4d2;\n",
       "  --sklearn-color-unfitted-level-2: #ffe0b3;\n",
       "  --sklearn-color-unfitted-level-3: chocolate;\n",
       "  /* Definition of color scheme for fitted estimators */\n",
       "  --sklearn-color-fitted-level-0: #f0f8ff;\n",
       "  --sklearn-color-fitted-level-1: #d4ebff;\n",
       "  --sklearn-color-fitted-level-2: #b3dbfd;\n",
       "  --sklearn-color-fitted-level-3: cornflowerblue;\n",
       "\n",
       "  /* Specific color for light theme */\n",
       "  --sklearn-color-text-on-default-background: var(--sg-text-color, var(--theme-code-foreground, var(--jp-content-font-color1, black)));\n",
       "  --sklearn-color-background: var(--sg-background-color, var(--theme-background, var(--jp-layout-color0, white)));\n",
       "  --sklearn-color-border-box: var(--sg-text-color, var(--theme-code-foreground, var(--jp-content-font-color1, black)));\n",
       "  --sklearn-color-icon: #696969;\n",
       "\n",
       "  @media (prefers-color-scheme: dark) {\n",
       "    /* Redefinition of color scheme for dark theme */\n",
       "    --sklearn-color-text-on-default-background: var(--sg-text-color, var(--theme-code-foreground, var(--jp-content-font-color1, white)));\n",
       "    --sklearn-color-background: var(--sg-background-color, var(--theme-background, var(--jp-layout-color0, #111)));\n",
       "    --sklearn-color-border-box: var(--sg-text-color, var(--theme-code-foreground, var(--jp-content-font-color1, white)));\n",
       "    --sklearn-color-icon: #878787;\n",
       "  }\n",
       "}\n",
       "\n",
       "#sk-container-id-2 {\n",
       "  color: var(--sklearn-color-text);\n",
       "}\n",
       "\n",
       "#sk-container-id-2 pre {\n",
       "  padding: 0;\n",
       "}\n",
       "\n",
       "#sk-container-id-2 input.sk-hidden--visually {\n",
       "  border: 0;\n",
       "  clip: rect(1px 1px 1px 1px);\n",
       "  clip: rect(1px, 1px, 1px, 1px);\n",
       "  height: 1px;\n",
       "  margin: -1px;\n",
       "  overflow: hidden;\n",
       "  padding: 0;\n",
       "  position: absolute;\n",
       "  width: 1px;\n",
       "}\n",
       "\n",
       "#sk-container-id-2 div.sk-dashed-wrapped {\n",
       "  border: 1px dashed var(--sklearn-color-line);\n",
       "  margin: 0 0.4em 0.5em 0.4em;\n",
       "  box-sizing: border-box;\n",
       "  padding-bottom: 0.4em;\n",
       "  background-color: var(--sklearn-color-background);\n",
       "}\n",
       "\n",
       "#sk-container-id-2 div.sk-container {\n",
       "  /* jupyter's `normalize.less` sets `[hidden] { display: none; }`\n",
       "     but bootstrap.min.css set `[hidden] { display: none !important; }`\n",
       "     so we also need the `!important` here to be able to override the\n",
       "     default hidden behavior on the sphinx rendered scikit-learn.org.\n",
       "     See: https://github.com/scikit-learn/scikit-learn/issues/21755 */\n",
       "  display: inline-block !important;\n",
       "  position: relative;\n",
       "}\n",
       "\n",
       "#sk-container-id-2 div.sk-text-repr-fallback {\n",
       "  display: none;\n",
       "}\n",
       "\n",
       "div.sk-parallel-item,\n",
       "div.sk-serial,\n",
       "div.sk-item {\n",
       "  /* draw centered vertical line to link estimators */\n",
       "  background-image: linear-gradient(var(--sklearn-color-text-on-default-background), var(--sklearn-color-text-on-default-background));\n",
       "  background-size: 2px 100%;\n",
       "  background-repeat: no-repeat;\n",
       "  background-position: center center;\n",
       "}\n",
       "\n",
       "/* Parallel-specific style estimator block */\n",
       "\n",
       "#sk-container-id-2 div.sk-parallel-item::after {\n",
       "  content: \"\";\n",
       "  width: 100%;\n",
       "  border-bottom: 2px solid var(--sklearn-color-text-on-default-background);\n",
       "  flex-grow: 1;\n",
       "}\n",
       "\n",
       "#sk-container-id-2 div.sk-parallel {\n",
       "  display: flex;\n",
       "  align-items: stretch;\n",
       "  justify-content: center;\n",
       "  background-color: var(--sklearn-color-background);\n",
       "  position: relative;\n",
       "}\n",
       "\n",
       "#sk-container-id-2 div.sk-parallel-item {\n",
       "  display: flex;\n",
       "  flex-direction: column;\n",
       "}\n",
       "\n",
       "#sk-container-id-2 div.sk-parallel-item:first-child::after {\n",
       "  align-self: flex-end;\n",
       "  width: 50%;\n",
       "}\n",
       "\n",
       "#sk-container-id-2 div.sk-parallel-item:last-child::after {\n",
       "  align-self: flex-start;\n",
       "  width: 50%;\n",
       "}\n",
       "\n",
       "#sk-container-id-2 div.sk-parallel-item:only-child::after {\n",
       "  width: 0;\n",
       "}\n",
       "\n",
       "/* Serial-specific style estimator block */\n",
       "\n",
       "#sk-container-id-2 div.sk-serial {\n",
       "  display: flex;\n",
       "  flex-direction: column;\n",
       "  align-items: center;\n",
       "  background-color: var(--sklearn-color-background);\n",
       "  padding-right: 1em;\n",
       "  padding-left: 1em;\n",
       "}\n",
       "\n",
       "\n",
       "/* Toggleable style: style used for estimator/Pipeline/ColumnTransformer box that is\n",
       "clickable and can be expanded/collapsed.\n",
       "- Pipeline and ColumnTransformer use this feature and define the default style\n",
       "- Estimators will overwrite some part of the style using the `sk-estimator` class\n",
       "*/\n",
       "\n",
       "/* Pipeline and ColumnTransformer style (default) */\n",
       "\n",
       "#sk-container-id-2 div.sk-toggleable {\n",
       "  /* Default theme specific background. It is overwritten whether we have a\n",
       "  specific estimator or a Pipeline/ColumnTransformer */\n",
       "  background-color: var(--sklearn-color-background);\n",
       "}\n",
       "\n",
       "/* Toggleable label */\n",
       "#sk-container-id-2 label.sk-toggleable__label {\n",
       "  cursor: pointer;\n",
       "  display: block;\n",
       "  width: 100%;\n",
       "  margin-bottom: 0;\n",
       "  padding: 0.5em;\n",
       "  box-sizing: border-box;\n",
       "  text-align: center;\n",
       "}\n",
       "\n",
       "#sk-container-id-2 label.sk-toggleable__label-arrow:before {\n",
       "  /* Arrow on the left of the label */\n",
       "  content: \"▸\";\n",
       "  float: left;\n",
       "  margin-right: 0.25em;\n",
       "  color: var(--sklearn-color-icon);\n",
       "}\n",
       "\n",
       "#sk-container-id-2 label.sk-toggleable__label-arrow:hover:before {\n",
       "  color: var(--sklearn-color-text);\n",
       "}\n",
       "\n",
       "/* Toggleable content - dropdown */\n",
       "\n",
       "#sk-container-id-2 div.sk-toggleable__content {\n",
       "  max-height: 0;\n",
       "  max-width: 0;\n",
       "  overflow: hidden;\n",
       "  text-align: left;\n",
       "  /* unfitted */\n",
       "  background-color: var(--sklearn-color-unfitted-level-0);\n",
       "}\n",
       "\n",
       "#sk-container-id-2 div.sk-toggleable__content.fitted {\n",
       "  /* fitted */\n",
       "  background-color: var(--sklearn-color-fitted-level-0);\n",
       "}\n",
       "\n",
       "#sk-container-id-2 div.sk-toggleable__content pre {\n",
       "  margin: 0.2em;\n",
       "  border-radius: 0.25em;\n",
       "  color: var(--sklearn-color-text);\n",
       "  /* unfitted */\n",
       "  background-color: var(--sklearn-color-unfitted-level-0);\n",
       "}\n",
       "\n",
       "#sk-container-id-2 div.sk-toggleable__content.fitted pre {\n",
       "  /* unfitted */\n",
       "  background-color: var(--sklearn-color-fitted-level-0);\n",
       "}\n",
       "\n",
       "#sk-container-id-2 input.sk-toggleable__control:checked~div.sk-toggleable__content {\n",
       "  /* Expand drop-down */\n",
       "  max-height: 200px;\n",
       "  max-width: 100%;\n",
       "  overflow: auto;\n",
       "}\n",
       "\n",
       "#sk-container-id-2 input.sk-toggleable__control:checked~label.sk-toggleable__label-arrow:before {\n",
       "  content: \"▾\";\n",
       "}\n",
       "\n",
       "/* Pipeline/ColumnTransformer-specific style */\n",
       "\n",
       "#sk-container-id-2 div.sk-label input.sk-toggleable__control:checked~label.sk-toggleable__label {\n",
       "  color: var(--sklearn-color-text);\n",
       "  background-color: var(--sklearn-color-unfitted-level-2);\n",
       "}\n",
       "\n",
       "#sk-container-id-2 div.sk-label.fitted input.sk-toggleable__control:checked~label.sk-toggleable__label {\n",
       "  background-color: var(--sklearn-color-fitted-level-2);\n",
       "}\n",
       "\n",
       "/* Estimator-specific style */\n",
       "\n",
       "/* Colorize estimator box */\n",
       "#sk-container-id-2 div.sk-estimator input.sk-toggleable__control:checked~label.sk-toggleable__label {\n",
       "  /* unfitted */\n",
       "  background-color: var(--sklearn-color-unfitted-level-2);\n",
       "}\n",
       "\n",
       "#sk-container-id-2 div.sk-estimator.fitted input.sk-toggleable__control:checked~label.sk-toggleable__label {\n",
       "  /* fitted */\n",
       "  background-color: var(--sklearn-color-fitted-level-2);\n",
       "}\n",
       "\n",
       "#sk-container-id-2 div.sk-label label.sk-toggleable__label,\n",
       "#sk-container-id-2 div.sk-label label {\n",
       "  /* The background is the default theme color */\n",
       "  color: var(--sklearn-color-text-on-default-background);\n",
       "}\n",
       "\n",
       "/* On hover, darken the color of the background */\n",
       "#sk-container-id-2 div.sk-label:hover label.sk-toggleable__label {\n",
       "  color: var(--sklearn-color-text);\n",
       "  background-color: var(--sklearn-color-unfitted-level-2);\n",
       "}\n",
       "\n",
       "/* Label box, darken color on hover, fitted */\n",
       "#sk-container-id-2 div.sk-label.fitted:hover label.sk-toggleable__label.fitted {\n",
       "  color: var(--sklearn-color-text);\n",
       "  background-color: var(--sklearn-color-fitted-level-2);\n",
       "}\n",
       "\n",
       "/* Estimator label */\n",
       "\n",
       "#sk-container-id-2 div.sk-label label {\n",
       "  font-family: monospace;\n",
       "  font-weight: bold;\n",
       "  display: inline-block;\n",
       "  line-height: 1.2em;\n",
       "}\n",
       "\n",
       "#sk-container-id-2 div.sk-label-container {\n",
       "  text-align: center;\n",
       "}\n",
       "\n",
       "/* Estimator-specific */\n",
       "#sk-container-id-2 div.sk-estimator {\n",
       "  font-family: monospace;\n",
       "  border: 1px dotted var(--sklearn-color-border-box);\n",
       "  border-radius: 0.25em;\n",
       "  box-sizing: border-box;\n",
       "  margin-bottom: 0.5em;\n",
       "  /* unfitted */\n",
       "  background-color: var(--sklearn-color-unfitted-level-0);\n",
       "}\n",
       "\n",
       "#sk-container-id-2 div.sk-estimator.fitted {\n",
       "  /* fitted */\n",
       "  background-color: var(--sklearn-color-fitted-level-0);\n",
       "}\n",
       "\n",
       "/* on hover */\n",
       "#sk-container-id-2 div.sk-estimator:hover {\n",
       "  /* unfitted */\n",
       "  background-color: var(--sklearn-color-unfitted-level-2);\n",
       "}\n",
       "\n",
       "#sk-container-id-2 div.sk-estimator.fitted:hover {\n",
       "  /* fitted */\n",
       "  background-color: var(--sklearn-color-fitted-level-2);\n",
       "}\n",
       "\n",
       "/* Specification for estimator info (e.g. \"i\" and \"?\") */\n",
       "\n",
       "/* Common style for \"i\" and \"?\" */\n",
       "\n",
       ".sk-estimator-doc-link,\n",
       "a:link.sk-estimator-doc-link,\n",
       "a:visited.sk-estimator-doc-link {\n",
       "  float: right;\n",
       "  font-size: smaller;\n",
       "  line-height: 1em;\n",
       "  font-family: monospace;\n",
       "  background-color: var(--sklearn-color-background);\n",
       "  border-radius: 1em;\n",
       "  height: 1em;\n",
       "  width: 1em;\n",
       "  text-decoration: none !important;\n",
       "  margin-left: 1ex;\n",
       "  /* unfitted */\n",
       "  border: var(--sklearn-color-unfitted-level-1) 1pt solid;\n",
       "  color: var(--sklearn-color-unfitted-level-1);\n",
       "}\n",
       "\n",
       ".sk-estimator-doc-link.fitted,\n",
       "a:link.sk-estimator-doc-link.fitted,\n",
       "a:visited.sk-estimator-doc-link.fitted {\n",
       "  /* fitted */\n",
       "  border: var(--sklearn-color-fitted-level-1) 1pt solid;\n",
       "  color: var(--sklearn-color-fitted-level-1);\n",
       "}\n",
       "\n",
       "/* On hover */\n",
       "div.sk-estimator:hover .sk-estimator-doc-link:hover,\n",
       ".sk-estimator-doc-link:hover,\n",
       "div.sk-label-container:hover .sk-estimator-doc-link:hover,\n",
       ".sk-estimator-doc-link:hover {\n",
       "  /* unfitted */\n",
       "  background-color: var(--sklearn-color-unfitted-level-3);\n",
       "  color: var(--sklearn-color-background);\n",
       "  text-decoration: none;\n",
       "}\n",
       "\n",
       "div.sk-estimator.fitted:hover .sk-estimator-doc-link.fitted:hover,\n",
       ".sk-estimator-doc-link.fitted:hover,\n",
       "div.sk-label-container:hover .sk-estimator-doc-link.fitted:hover,\n",
       ".sk-estimator-doc-link.fitted:hover {\n",
       "  /* fitted */\n",
       "  background-color: var(--sklearn-color-fitted-level-3);\n",
       "  color: var(--sklearn-color-background);\n",
       "  text-decoration: none;\n",
       "}\n",
       "\n",
       "/* Span, style for the box shown on hovering the info icon */\n",
       ".sk-estimator-doc-link span {\n",
       "  display: none;\n",
       "  z-index: 9999;\n",
       "  position: relative;\n",
       "  font-weight: normal;\n",
       "  right: .2ex;\n",
       "  padding: .5ex;\n",
       "  margin: .5ex;\n",
       "  width: min-content;\n",
       "  min-width: 20ex;\n",
       "  max-width: 50ex;\n",
       "  color: var(--sklearn-color-text);\n",
       "  box-shadow: 2pt 2pt 4pt #999;\n",
       "  /* unfitted */\n",
       "  background: var(--sklearn-color-unfitted-level-0);\n",
       "  border: .5pt solid var(--sklearn-color-unfitted-level-3);\n",
       "}\n",
       "\n",
       ".sk-estimator-doc-link.fitted span {\n",
       "  /* fitted */\n",
       "  background: var(--sklearn-color-fitted-level-0);\n",
       "  border: var(--sklearn-color-fitted-level-3);\n",
       "}\n",
       "\n",
       ".sk-estimator-doc-link:hover span {\n",
       "  display: block;\n",
       "}\n",
       "\n",
       "/* \"?\"-specific style due to the `<a>` HTML tag */\n",
       "\n",
       "#sk-container-id-2 a.estimator_doc_link {\n",
       "  float: right;\n",
       "  font-size: 1rem;\n",
       "  line-height: 1em;\n",
       "  font-family: monospace;\n",
       "  background-color: var(--sklearn-color-background);\n",
       "  border-radius: 1rem;\n",
       "  height: 1rem;\n",
       "  width: 1rem;\n",
       "  text-decoration: none;\n",
       "  /* unfitted */\n",
       "  color: var(--sklearn-color-unfitted-level-1);\n",
       "  border: var(--sklearn-color-unfitted-level-1) 1pt solid;\n",
       "}\n",
       "\n",
       "#sk-container-id-2 a.estimator_doc_link.fitted {\n",
       "  /* fitted */\n",
       "  border: var(--sklearn-color-fitted-level-1) 1pt solid;\n",
       "  color: var(--sklearn-color-fitted-level-1);\n",
       "}\n",
       "\n",
       "/* On hover */\n",
       "#sk-container-id-2 a.estimator_doc_link:hover {\n",
       "  /* unfitted */\n",
       "  background-color: var(--sklearn-color-unfitted-level-3);\n",
       "  color: var(--sklearn-color-background);\n",
       "  text-decoration: none;\n",
       "}\n",
       "\n",
       "#sk-container-id-2 a.estimator_doc_link.fitted:hover {\n",
       "  /* fitted */\n",
       "  background-color: var(--sklearn-color-fitted-level-3);\n",
       "}\n",
       "</style><div id=\"sk-container-id-2\" class=\"sk-top-container\"><div class=\"sk-text-repr-fallback\"><pre>CalibratedClassifierCV(cv=3, estimator=SVC(kernel=&#x27;poly&#x27;, probability=True))</pre><b>In a Jupyter environment, please rerun this cell to show the HTML representation or trust the notebook. <br />On GitHub, the HTML representation is unable to render, please try loading this page with nbviewer.org.</b></div><div class=\"sk-container\" hidden><div class=\"sk-item sk-dashed-wrapped\"><div class=\"sk-label-container\"><div class=\"sk-label fitted sk-toggleable\"><input class=\"sk-toggleable__control sk-hidden--visually\" id=\"sk-estimator-id-4\" type=\"checkbox\" ><label for=\"sk-estimator-id-4\" class=\"sk-toggleable__label fitted sk-toggleable__label-arrow fitted\">&nbsp;&nbsp;CalibratedClassifierCV<a class=\"sk-estimator-doc-link fitted\" rel=\"noreferrer\" target=\"_blank\" href=\"https://scikit-learn.org/1.5/modules/generated/sklearn.calibration.CalibratedClassifierCV.html\">?<span>Documentation for CalibratedClassifierCV</span></a><span class=\"sk-estimator-doc-link fitted\">i<span>Fitted</span></span></label><div class=\"sk-toggleable__content fitted\"><pre>CalibratedClassifierCV(cv=3, estimator=SVC(kernel=&#x27;poly&#x27;, probability=True))</pre></div> </div></div><div class=\"sk-parallel\"><div class=\"sk-parallel-item\"><div class=\"sk-item\"><div class=\"sk-label-container\"><div class=\"sk-label fitted sk-toggleable\"><input class=\"sk-toggleable__control sk-hidden--visually\" id=\"sk-estimator-id-5\" type=\"checkbox\" ><label for=\"sk-estimator-id-5\" class=\"sk-toggleable__label fitted sk-toggleable__label-arrow fitted\">estimator: SVC</label><div class=\"sk-toggleable__content fitted\"><pre>SVC(kernel=&#x27;poly&#x27;, probability=True)</pre></div> </div></div><div class=\"sk-serial\"><div class=\"sk-item\"><div class=\"sk-estimator fitted sk-toggleable\"><input class=\"sk-toggleable__control sk-hidden--visually\" id=\"sk-estimator-id-6\" type=\"checkbox\" ><label for=\"sk-estimator-id-6\" class=\"sk-toggleable__label fitted sk-toggleable__label-arrow fitted\">&nbsp;SVC<a class=\"sk-estimator-doc-link fitted\" rel=\"noreferrer\" target=\"_blank\" href=\"https://scikit-learn.org/1.5/modules/generated/sklearn.svm.SVC.html\">?<span>Documentation for SVC</span></a></label><div class=\"sk-toggleable__content fitted\"><pre>SVC(kernel=&#x27;poly&#x27;, probability=True)</pre></div> </div></div></div></div></div></div></div></div></div>"
      ],
      "text/plain": [
       "CalibratedClassifierCV(cv=3, estimator=SVC(kernel='poly', probability=True))"
      ]
     },
     "execution_count": 62,
     "metadata": {},
     "output_type": "execute_result"
    }
   ],
   "source": [
    "svm_calibrated = CalibratedClassifierCV(SVC(kernel='poly', probability=True), cv=3)\n",
    "\n",
    "svm_calibrated.fit(x_train, y_train)"
   ]
  },
  {
   "cell_type": "code",
   "execution_count": 63,
   "id": "47a4032d-2287-429c-9659-bb1d4427be96",
   "metadata": {},
   "outputs": [
    {
     "data": {
      "text/plain": [
       "array([0.71411536, 0.68109718, 0.74085005, 0.50989392, 0.64542284,\n",
       "       0.65226117, 0.39695956, 0.2807224 , 0.36558313, 0.58962433])"
      ]
     },
     "execution_count": 63,
     "metadata": {},
     "output_type": "execute_result"
    }
   ],
   "source": [
    "probs_svm_c = svm_calibrated.predict_proba(x_test)[:,1]\n",
    "\n",
    "probs_svm_c[:10]"
   ]
  },
  {
   "cell_type": "code",
   "execution_count": 64,
   "id": "a59ffa42-9ec8-4cdb-937c-c6c5e889dff4",
   "metadata": {},
   "outputs": [
    {
     "data": {
      "text/plain": [
       "(6706, 18)"
      ]
     },
     "execution_count": 64,
     "metadata": {},
     "output_type": "execute_result"
    }
   ],
   "source": [
    "x_test.shape"
   ]
  },
  {
   "cell_type": "code",
   "execution_count": 65,
   "id": "d17a9be6-5572-45be-8e06-4b4e67bb5126",
   "metadata": {},
   "outputs": [
    {
     "data": {
      "text/plain": [
       "0.6389800178944228"
      ]
     },
     "execution_count": 65,
     "metadata": {},
     "output_type": "execute_result"
    }
   ],
   "source": [
    "svc_pred = svm_calibrated.predict(x_test)\n",
    "roc_auc_score(y_test, svc_pred)"
   ]
  },
  {
   "cell_type": "code",
   "execution_count": 66,
   "id": "b5d35280-c8cd-4968-8fd8-c0af4aead9b2",
   "metadata": {},
   "outputs": [
    {
     "data": {
      "text/plain": [
       "0.6389800178944229"
      ]
     },
     "execution_count": 66,
     "metadata": {},
     "output_type": "execute_result"
    }
   ],
   "source": [
    "accuracy_score(y_test, svc_pred)"
   ]
  },
  {
   "cell_type": "code",
   "execution_count": null,
   "id": "75015ca8-a882-4d39-a517-d657f471728b",
   "metadata": {},
   "outputs": [],
   "source": [
    "'poly'"
   ]
  },
  {
   "cell_type": "code",
   "execution_count": 842,
   "id": "9c463328-1c07-45bf-81a7-0ebe01b7dc87",
   "metadata": {},
   "outputs": [],
   "source": [
    "# for trh in np.arange(0.001, 3, 0.001):\n",
    "#     lr_pred = [1 if i > trh else 0 for i in probs_svm_c]\n",
    "#     print(trh)\n",
    "#     print(roc_auc_score(y_test, lr_pred))\n",
    "#     print(accuracy_score(y_test, lr_pred))\n",
    "#     print()"
   ]
  },
  {
   "cell_type": "code",
   "execution_count": null,
   "id": "6f20afed-b3d2-47b8-bf95-ce564e93db8b",
   "metadata": {},
   "outputs": [],
   "source": [
    "0.12000000000000001"
   ]
  },
  {
   "cell_type": "code",
   "execution_count": 934,
   "id": "6d7ae162-7564-47a5-a8c4-2ee203b5080a",
   "metadata": {},
   "outputs": [],
   "source": [
    "# for kernel in ['linear', 'sigmoid']:\n",
    "#     for C in np.arange(1, 3.1, 0.1):\n",
    "\n",
    "#         svc = SVC(kernel=kernel, C=C)\n",
    "        \n",
    "#         svc.fit(x_train, y_train)\n",
    "        \n",
    "#         svc_pred = svc.predict(x_test)\n",
    "\n",
    "#         print(kernel, C)\n",
    "#         print(roc_auc_score(y_test, svc_pred))\n",
    "#         print()"
   ]
  },
  {
   "cell_type": "code",
   "execution_count": 16,
   "id": "889a0f9c-77c2-4098-83b4-dad8db02f480",
   "metadata": {},
   "outputs": [],
   "source": [
    "# params = [\n",
    "#     { \n",
    "#     'C' : np.arange(0.1, 10, 0.1),                     \n",
    "#     }\n",
    "# ]\n",
    "\n",
    "# clf1 = GridSearchCV(estimator = lr, \n",
    "#                    param_grid = params, \n",
    "#                    scoring = 'roc_auc', \n",
    "#                    cv = 3, \n",
    "#                    verbose=True,\n",
    "#                    n_jobs=-1)\n",
    "\n",
    "# clf_fit1 = clf1.fit(X,y)\n",
    "\n",
    "# print(clf_fit1.best_estimator_, clf_fit1.best_score_)"
   ]
  },
  {
   "cell_type": "code",
   "execution_count": 206,
   "id": "8f16fd71-d861-497b-bf8d-eda1c7c6f3aa",
   "metadata": {},
   "outputs": [
    {
     "data": {
      "text/plain": [
       "(15223, 33)"
      ]
     },
     "execution_count": 206,
     "metadata": {},
     "output_type": "execute_result"
    }
   ],
   "source": [
    "X.shape"
   ]
  },
  {
   "cell_type": "code",
   "execution_count": 17,
   "id": "b3a84fbd-08db-4ed7-a697-15940c422ff6",
   "metadata": {},
   "outputs": [],
   "source": [
    "# for i in np.arange(0.1, 5, 0.1):\n",
    "\n",
    "#     svc.fit(x_train, y_train)\n",
    "    \n",
    "#     svc_pred = svc.predict(x_test)\n",
    "\n",
    "#     print(i)\n",
    "#     print(roc_auc_score(y_test, svc_pred))\n",
    "#     print()"
   ]
  },
  {
   "cell_type": "code",
   "execution_count": null,
   "id": "b41709ce-b3a1-41b7-90c7-7e5b1fb5bdd9",
   "metadata": {},
   "outputs": [],
   "source": []
  },
  {
   "cell_type": "code",
   "execution_count": 28,
   "id": "4788f4ba-0c30-409a-9b1f-51d280b98a49",
   "metadata": {},
   "outputs": [
    {
     "data": {
      "text/plain": [
       "array([0])"
      ]
     },
     "execution_count": 28,
     "metadata": {},
     "output_type": "execute_result"
    }
   ],
   "source": [
    "# row = df7.loc[df7['ID_CLIENT'] == 106809308, :].drop('ID_CLIENT', axis=1)\n",
    "# prediction = pipe.predict(row)\n",
    "# prediction"
   ]
  },
  {
   "cell_type": "code",
   "execution_count": 143,
   "id": "f2f19c7c-2d22-4198-9eca-ed758b5a68bb",
   "metadata": {},
   "outputs": [],
   "source": [
    "# import pickle\n",
    "\n",
    "# with open('models/lr_model.pkl', 'wb') as file:\n",
    "#     pickle.dump(pipe, file)"
   ]
  },
  {
   "cell_type": "code",
   "execution_count": null,
   "id": "ee5a5c42-6966-4abe-9a08-1fa75a67a351",
   "metadata": {},
   "outputs": [],
   "source": []
  },
  {
   "cell_type": "code",
   "execution_count": null,
   "id": "c2c3a5b6-b541-47e9-8a20-674359a6ce49",
   "metadata": {},
   "outputs": [],
   "source": []
  },
  {
   "cell_type": "code",
   "execution_count": null,
   "id": "db22b595-e009-4613-afb0-efc63343fe2e",
   "metadata": {},
   "outputs": [],
   "source": []
  },
  {
   "cell_type": "code",
   "execution_count": null,
   "id": "776f9221-8279-48a5-9513-301a5ded2249",
   "metadata": {},
   "outputs": [],
   "source": []
  },
  {
   "cell_type": "code",
   "execution_count": null,
   "id": "e326d1c5-67f9-4d8c-b1e9-0aceb3f1e1f1",
   "metadata": {},
   "outputs": [],
   "source": []
  }
 ],
 "metadata": {
  "kernelspec": {
   "display_name": "Python 3 (ipykernel)",
   "language": "python",
   "name": "python3"
  },
  "language_info": {
   "codemirror_mode": {
    "name": "ipython",
    "version": 3
   },
   "file_extension": ".py",
   "mimetype": "text/x-python",
   "name": "python",
   "nbconvert_exporter": "python",
   "pygments_lexer": "ipython3",
   "version": "3.12.2"
  }
 },
 "nbformat": 4,
 "nbformat_minor": 5
}
